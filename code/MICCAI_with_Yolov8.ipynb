{
 "cells": [
  {
   "cell_type": "markdown",
   "metadata": {},
   "source": [
    "Segmentation de tumeurs par YOLOv8 sur la database MICCAI"
   ]
  },
  {
   "cell_type": "markdown",
   "metadata": {},
   "source": [
    "_______________________________________________________________________________________________________________________________________________________________"
   ]
  },
  {
   "cell_type": "markdown",
   "metadata": {},
   "source": [
    "1) __Intro__ : \n",
    "\n",
    "Nous souhaitons créer un model YOLOv8 à la segmentation d'images MICCAI. Pour cela nous avons utilisé la database MICCAI. Npus partons donc de données compressées sous formats '.nii'. Cette data est composé de scans 3D cérébraux de 393 patients. Chaque scan est décomposé en 2 fichier '.nii' correspondant à la vérité de terrain (scan 3D segmenté à la main en plusieurs labels => niveau de gris entre 0 et 5) et au cliché à proprement parlé (coupe du cerveau dans les 3 axes).\n",
    "\n",
    "YOLOv8 est un réseau neuronal profond édité par Ultralytics. Toute la doc peut être directement retrouvez sur le site : https://docs.ultralytics.com/tasks/detect/\n",
    "\n",
    "La biblithéque implementant YOLOv8 est sur : https://github.com/ultralytics/ultralytics \n",
    "\n",
    "Le l'environnement correspondant ce jupyter est présent sur le github suivant : https://github.com/ElMagicarp/PIR_3_YOLO/tree/main/Brats_with_YOLOv8\n",
    "\n",
    "__ATTENTION__ : nous utilisons ici Pytorch en mode 'cpu' pour faire tourner le réseau"
   ]
  },
  {
   "cell_type": "markdown",
   "metadata": {},
   "source": [
    "_______________________________________________________________________________________________________________________________________________________________"
   ]
  },
  {
   "cell_type": "markdown",
   "metadata": {},
   "source": [
    "__Préparation des imports / pip__"
   ]
  },
  {
   "cell_type": "code",
   "execution_count": 7,
   "metadata": {
    "execution": {
     "iopub.execute_input": "2023-06-27T14:00:56.187426Z",
     "iopub.status.busy": "2023-06-27T14:00:56.187114Z",
     "iopub.status.idle": "2023-06-27T14:00:56.655352Z",
     "shell.execute_reply": "2023-06-27T14:00:56.654544Z",
     "shell.execute_reply.started": "2023-06-27T14:00:56.187401Z"
    },
    "tags": []
   },
   "outputs": [
    {
     "name": "stderr",
     "output_type": "stream",
     "text": [
      "WARNING: Skipping nvidia_cublas_cu11 as it is not installed.\n"
     ]
    },
    {
     "data": {
      "text/plain": [
       "0"
      ]
     },
     "execution_count": 7,
     "metadata": {},
     "output_type": "execute_result"
    }
   ],
   "source": [
    "import os\n",
    "import sys\n",
    "os.system(\"pip uninstall -y nvidia_cublas_cu11\")\n"
   ]
  },
  {
   "cell_type": "code",
   "execution_count": 8,
   "metadata": {
    "execution": {
     "iopub.execute_input": "2023-06-27T14:00:56.656819Z",
     "iopub.status.busy": "2023-06-27T14:00:56.656588Z",
     "iopub.status.idle": "2023-06-27T14:00:56.661476Z",
     "shell.execute_reply": "2023-06-27T14:00:56.660910Z",
     "shell.execute_reply.started": "2023-06-27T14:00:56.656800Z"
    },
    "tags": []
   },
   "outputs": [
    {
     "data": {
      "text/plain": [
       "'def dice_coef(img, img2):\\n        if img.shape != img2.shape:\\n            raise ValueError(\"Shape mismatch: img and img2 must have to be of the same shape.\")\\n        else:\\n            \\n            lenIntersection=0\\n            \\n            for i in range(img.shape[0]):\\n                for j in range(img.shape[1]):\\n                    if ( np.array_equal(img[i][j],img2[i][j]) ):\\n                        lenIntersection+=1\\n             \\n            lenimg=img.shape[0]*img.shape[1]\\n            lenimg2=img2.shape[0]*img2.shape[1]  \\n            value = (2. * lenIntersection  / (lenimg + lenimg2))\\n        return value'"
      ]
     },
     "execution_count": 8,
     "metadata": {},
     "output_type": "execute_result"
    }
   ],
   "source": [
    "'''def dice_coef(img, img2):\n",
    "        if img.shape != img2.shape:\n",
    "            raise ValueError(\"Shape mismatch: img and img2 must have to be of the same shape.\")\n",
    "        else:\n",
    "            \n",
    "            lenIntersection=0\n",
    "            \n",
    "            for i in range(img.shape[0]):\n",
    "                for j in range(img.shape[1]):\n",
    "                    if ( np.array_equal(img[i][j],img2[i][j]) ):\n",
    "                        lenIntersection+=1\n",
    "             \n",
    "            lenimg=img.shape[0]*img.shape[1]\n",
    "            lenimg2=img2.shape[0]*img2.shape[1]  \n",
    "            value = (2. * lenIntersection  / (lenimg + lenimg2))\n",
    "        return value'''"
   ]
  },
  {
   "cell_type": "code",
   "execution_count": 9,
   "metadata": {
    "execution": {
     "iopub.execute_input": "2023-06-27T14:00:56.833537Z",
     "iopub.status.busy": "2023-06-27T14:00:56.833010Z",
     "iopub.status.idle": "2023-06-27T14:00:59.776834Z",
     "shell.execute_reply": "2023-06-27T14:00:59.776171Z",
     "shell.execute_reply.started": "2023-06-27T14:00:56.833505Z"
    },
    "tags": []
   },
   "outputs": [],
   "source": [
    "import yoloTools\n",
    "import SLICER as slc\n",
    "import FORMATAGE as frm\n",
    "\n",
    "from picsellia.types.enums import AnnotationFileType\n",
    "\n",
    "from ultralytics import YOLO #execute in terminal \"pip uninstall -y nvidia_cublas_cu11\" if issue with Cublas\n",
    "import numpy as np\n",
    "\n",
    "import cv2\n",
    "from matplotlib import pyplot as plt\n",
    "import os\n",
    "import sys\n",
    "from PIL import Image\n",
    "from matplotlib import pyplot as plt\n",
    "import glob\n",
    "import torch\n",
    "sep = os.path.sep"
   ]
  },
  {
   "cell_type": "markdown",
   "metadata": {},
   "source": [
    "_______________________________________________________________________________________________________________________________________________________________"
   ]
  },
  {
   "cell_type": "markdown",
   "metadata": {},
   "source": [
    "2) __Formatage de la database__ :\n",
    "\n",
    "Dans cette implementation, nous utiliserons le formatage en répertoires suivant (contrainte ultralytics + yolotools):\n",
    "\n",
    "```\n",
    "-- datasets  +-- raw  +-- test  +-- images\n",
    "             |        |         |\n",
    "             |        |         +-- labels\n",
    "             |        |\n",
    "             |        +-- train +-- images\n",
    "             |        |         |\n",
    "             |        |         +-- labels\n",
    "             |        |\n",
    "             |        +-- val   +-- images\n",
    "             |                  |\n",
    "             |                  +-- labels\n",
    "             |\n",
    "             +-- refined  +-- test  +-- images\n",
    "                          |         |\n",
    "                          |         +-- labels\n",
    "                          |\n",
    "                          +-- train +-- images\n",
    "                          |         |\n",
    "                          |         +-- labels\n",
    "                          |\n",
    "                          +-- val   +-- images\n",
    "                                    |\n",
    "                                    +-- labels\n",
    "```\n",
    "\n",
    "__Pour constituer le dataset :__\n",
    " 1) Télécharger l'archive MICCAI\n",
    " 2) Extraire l'archive dans le répertoire datasets\n",
    " 3) Déplacer tout les fichiers compressés .nii.gz dans répertoire datasets\n",
    " \n",
    " 4) Executer les scripts suivants ce markdown jusqu'à la prochaine section"
   ]
  },
  {
   "cell_type": "markdown",
   "metadata": {},
   "source": [
    "__a) déclaration des config d'extraction des données (slice en png et réparti dans les bons fichiers)__"
   ]
  },
  {
   "cell_type": "code",
   "execution_count": 10,
   "metadata": {
    "execution": {
     "iopub.execute_input": "2023-06-27T14:00:59.778588Z",
     "iopub.status.busy": "2023-06-27T14:00:59.778042Z",
     "iopub.status.idle": "2023-06-27T14:00:59.782258Z",
     "shell.execute_reply": "2023-06-27T14:00:59.781528Z",
     "shell.execute_reply.started": "2023-06-27T14:00:59.778558Z"
    },
    "tags": []
   },
   "outputs": [],
   "source": [
    "path_vers_datasets_raw = f'..{sep}datasets{sep}raw' #chemin relatif vers le répertoire dataset/raw\n",
    "seuil = 1 #seuil disciminant pour la sélection des coupes (int entre 1 et 100 => rapport nb pixels segementés/nb pixels)\n",
    "nb_coupe_par_scan = 5 #nb de coupes max extraites par fichier .nii.gz\n",
    "#print(os.path.isdir(\"../datasets/raw/test\")) "
   ]
  },
  {
   "cell_type": "markdown",
   "metadata": {},
   "source": [
    "__facultatif) test du dataset pour connaitre seuil max pour un nb de coupes par scan__"
   ]
  },
  {
   "cell_type": "markdown",
   "metadata": {},
   "source": [
    "__b) slice(.nii.gz -> png) + distribution dans les bons répertoires (refined/..) avec la répartition suivante:__\n",
    "\n",
    "train = 64% dataset ; val = 16% dataset ; test = 20% dataset\n",
    "\n",
    "Rq :  les patients ne peuvent être présent que dans un seul des sous répertoires"
   ]
  },
  {
   "cell_type": "code",
   "execution_count": 11,
   "metadata": {
    "execution": {
     "iopub.execute_input": "2023-06-27T14:01:00.019200Z",
     "iopub.status.busy": "2023-06-27T14:01:00.018821Z",
     "iopub.status.idle": "2023-06-27T14:01:00.500191Z",
     "shell.execute_reply": "2023-06-27T14:01:00.499242Z",
     "shell.execute_reply.started": "2023-06-27T14:01:00.019174Z"
    },
    "tags": []
   },
   "outputs": [
    {
     "name": "stdout",
     "output_type": "stream",
     "text": [
      "#_____________SELECTION_____________#\n",
      "/home/jovyan/workspace/NEW_MICCAI_With_YOLOv8/code\n"
     ]
    },
    {
     "ename": "NameError",
     "evalue": "name 'exit' is not defined",
     "output_type": "error",
     "traceback": [
      "\u001b[0;31m---------------------------------------------------------------------------\u001b[0m",
      "\u001b[0;31mNameError\u001b[0m                                 Traceback (most recent call last)",
      "Cell \u001b[0;32mIn [11], line 2\u001b[0m\n\u001b[1;32m      1\u001b[0m \u001b[38;5;28mprint\u001b[39m(\u001b[38;5;124m'\u001b[39m\u001b[38;5;124m#_____________SELECTION_____________#\u001b[39m\u001b[38;5;124m'\u001b[39m)\n\u001b[0;32m----> 2\u001b[0m slc\u001b[38;5;241m.\u001b[39mslicer_main(path_vers_datasets_raw, seuil, nb_coupe_par_scan)\n",
      "File \u001b[0;32m~/workspace/NEW_MICCAI_With_YOLOv8/code/SLICER.py:157\u001b[0m, in \u001b[0;36mslicer_main\u001b[0;34m(relativeFolderPath, seuil, testSeuil)\u001b[0m\n\u001b[1;32m    156\u001b[0m \u001b[38;5;28;01mdef\u001b[39;00m \u001b[38;5;21mslicer_main\u001b[39m(relativeFolderPath, seuil, testSeuil\u001b[38;5;241m=\u001b[39m\u001b[38;5;28;01mFalse\u001b[39;00m):\n\u001b[0;32m--> 157\u001b[0m     path_img_dic\u001b[38;5;241m=\u001b[39m\u001b[43mloaddingList\u001b[49m\u001b[43m(\u001b[49m\u001b[43mrelativeFolderPath\u001b[49m\u001b[43m,\u001b[49m\u001b[38;5;124;43m'\u001b[39;49m\u001b[38;5;124;43minit\u001b[39;49m\u001b[38;5;124;43m'\u001b[39;49m\u001b[43m)\u001b[49m\n\u001b[1;32m    158\u001b[0m     repartitor(path_img_dic,relativeFolderPath)\n\u001b[1;32m    160\u001b[0m     testResult\u001b[38;5;241m=\u001b[39m[]\n",
      "File \u001b[0;32m~/workspace/NEW_MICCAI_With_YOLOv8/code/SLICER.py:17\u001b[0m, in \u001b[0;36mloaddingList\u001b[0;34m(relativeFolderPath, phase)\u001b[0m\n\u001b[1;32m     15\u001b[0m absolute_path \u001b[38;5;241m=\u001b[39m os\u001b[38;5;241m.\u001b[39mpath\u001b[38;5;241m.\u001b[39mdirname(\u001b[38;5;18m__file__\u001b[39m)\n\u001b[1;32m     16\u001b[0m \u001b[38;5;28mprint\u001b[39m(absolute_path)\n\u001b[0;32m---> 17\u001b[0m \u001b[43mexit\u001b[49m()\n\u001b[1;32m     18\u001b[0m dir_abs_path \u001b[38;5;241m=\u001b[39m os\u001b[38;5;241m.\u001b[39mpath\u001b[38;5;241m.\u001b[39mjoin(absolute_path, relativeFolderPath)\n\u001b[1;32m     19\u001b[0m flair\u001b[38;5;241m=\u001b[39m[]\n",
      "\u001b[0;31mNameError\u001b[0m: name 'exit' is not defined"
     ]
    }
   ],
   "source": [
    "print('#_____________SELECTION_____________#')\n",
    "slc.slicer_main(path_vers_datasets_raw, seuil, nb_coupe_par_scan)"
   ]
  },
  {
   "cell_type": "markdown",
   "metadata": {},
   "source": [
    "__d) déclaration des config pour le formatage des données__\n",
    "\n",
    "__ATTENTION__ : à cause de cv2, la segmentation ne se fait qu'en binaire, on ramene alors touts les labels à la même valeur ce qui nous empêche de les différencier\n",
    "\n",
    "__ATTENTION__ : si vous souhaitez changer de format ('bbox' ou 'seg') aprés avoir déjà formaté le dataset, vous devez repartir de la commande 2.b) en modifiant la variable 'mode' de 2.d) "
   ]
  },
  {
   "cell_type": "code",
   "execution_count": 19,
   "metadata": {
    "execution": {
     "iopub.execute_input": "2023-06-23T07:22:47.590691Z",
     "iopub.status.busy": "2023-06-23T07:22:47.590394Z",
     "iopub.status.idle": "2023-06-23T07:22:47.594442Z",
     "shell.execute_reply": "2023-06-23T07:22:47.593856Z",
     "shell.execute_reply.started": "2023-06-23T07:22:47.590664Z"
    },
    "tags": []
   },
   "outputs": [],
   "source": [
    "path_vers_datasets_refined = f'..{sep}datasets{sep}refined' #chemin relatif vers le répertoire dataset/refined\n",
    "mode = 'seg' #indique le format souhaité 'seg' ou 'bbox' => 'bbox' pour bounding box et 'seg' pour segmentation\n",
    "resize = 128 # résolution de l'image carrée de sortie => reformatage en image carrée multiple de 32 à cause de YOLOv8 (ou changer 1ére couche du réseau)"
   ]
  },
  {
   "cell_type": "markdown",
   "metadata": {},
   "source": [
    "__c) formatage du dataset avec génération du json format COCO et des data.yaml__"
   ]
  },
  {
   "cell_type": "code",
   "execution_count": 4,
   "metadata": {
    "execution": {
     "iopub.execute_input": "2023-06-19T13:40:47.929530Z",
     "iopub.status.busy": "2023-06-19T13:40:47.929125Z",
     "iopub.status.idle": "2023-06-19T13:40:48.016738Z",
     "shell.execute_reply": "2023-06-19T13:40:48.015880Z",
     "shell.execute_reply.started": "2023-06-19T13:40:47.929502Z"
    },
    "tags": []
   },
   "outputs": [
    {
     "name": "stderr",
     "output_type": "stream",
     "text": [
      "rm: cannot remove '/home/jovyan/workspace/NEW_MICCAI_With_YOLOv8/code/../datasets/refined/train/labels/*.txt': No such file or directory\n",
      "rm: cannot remove '/home/jovyan/workspace/NEW_MICCAI_With_YOLOv8/code/../datasets/refined/val/labels/*.txt': No such file or directory\n",
      "rm: cannot remove '/home/jovyan/workspace/NEW_MICCAI_With_YOLOv8/code/../datasets/refined/test/labels/*.txt': No such file or directory\n"
     ]
    },
    {
     "name": "stdout",
     "output_type": "stream",
     "text": [
      "Rescaling image: /home/jovyan/workspace/NEW_MICCAI_With_YOLOv8/code/../datasets/refined/train/labels/MICCAI_Patient_6_e260.png\n",
      "Rescaling image: /home/jovyan/workspace/NEW_MICCAI_With_YOLOv8/code/../datasets/refined/train/images/MICCAI_Patient_6_e260.png\n",
      "Rescaling image: /home/jovyan/workspace/NEW_MICCAI_With_YOLOv8/code/../datasets/refined/train/labels/MICCAI_Patient_1_e248.png\n",
      "Rescaling image: /home/jovyan/workspace/NEW_MICCAI_With_YOLOv8/code/../datasets/refined/train/images/MICCAI_Patient_1_e248.png\n",
      "Rescaling image: /home/jovyan/workspace/NEW_MICCAI_With_YOLOv8/code/../datasets/refined/train/labels/MICCAI_Patient_1_e241.png\n",
      "Rescaling image: /home/jovyan/workspace/NEW_MICCAI_With_YOLOv8/code/../datasets/refined/train/images/MICCAI_Patient_1_e241.png\n",
      "Rescaling image: /home/jovyan/workspace/NEW_MICCAI_With_YOLOv8/code/../datasets/refined/train/labels/MICCAI_Patient_6_e218.png\n",
      "Rescaling image: /home/jovyan/workspace/NEW_MICCAI_With_YOLOv8/code/../datasets/refined/train/images/MICCAI_Patient_6_e218.png\n",
      "Rescaling image: /home/jovyan/workspace/NEW_MICCAI_With_YOLOv8/code/../datasets/refined/train/labels/MICCAI_Patient_1_e250.png\n",
      "Rescaling image: /home/jovyan/workspace/NEW_MICCAI_With_YOLOv8/code/../datasets/refined/train/images/MICCAI_Patient_1_e250.png\n",
      "Rescaling image: /home/jovyan/workspace/NEW_MICCAI_With_YOLOv8/code/../datasets/refined/train/labels/MICCAI_Patient_3_e244.png\n",
      "Rescaling image: /home/jovyan/workspace/NEW_MICCAI_With_YOLOv8/code/../datasets/refined/train/images/MICCAI_Patient_3_e244.png\n",
      "Rescaling image: /home/jovyan/workspace/NEW_MICCAI_With_YOLOv8/code/../datasets/refined/train/labels/MICCAI_Patient_6_e258.png\n",
      "Rescaling image: /home/jovyan/workspace/NEW_MICCAI_With_YOLOv8/code/../datasets/refined/train/images/MICCAI_Patient_6_e258.png\n",
      "Rescaling image: /home/jovyan/workspace/NEW_MICCAI_With_YOLOv8/code/../datasets/refined/train/labels/MICCAI_Patient_3_e219.png\n",
      "Rescaling image: /home/jovyan/workspace/NEW_MICCAI_With_YOLOv8/code/../datasets/refined/train/images/MICCAI_Patient_3_e219.png\n",
      "Rescaling image: /home/jovyan/workspace/NEW_MICCAI_With_YOLOv8/code/../datasets/refined/train/labels/MICCAI_Patient_3_e258.png\n",
      "Rescaling image: /home/jovyan/workspace/NEW_MICCAI_With_YOLOv8/code/../datasets/refined/train/images/MICCAI_Patient_3_e258.png\n",
      "Rescaling image: /home/jovyan/workspace/NEW_MICCAI_With_YOLOv8/code/../datasets/refined/train/labels/MICCAI_Patient_6_e219.png\n",
      "Rescaling image: /home/jovyan/workspace/NEW_MICCAI_With_YOLOv8/code/../datasets/refined/train/images/MICCAI_Patient_6_e219.png\n",
      "Rescaling image: /home/jovyan/workspace/NEW_MICCAI_With_YOLOv8/code/../datasets/refined/train/labels/MICCAI_Patient_6_e259.png\n",
      "Rescaling image: /home/jovyan/workspace/NEW_MICCAI_With_YOLOv8/code/../datasets/refined/train/images/MICCAI_Patient_6_e259.png\n",
      "Rescaling image: /home/jovyan/workspace/NEW_MICCAI_With_YOLOv8/code/../datasets/refined/train/labels/MICCAI_Patient_3_e272.png\n",
      "Rescaling image: /home/jovyan/workspace/NEW_MICCAI_With_YOLOv8/code/../datasets/refined/train/images/MICCAI_Patient_3_e272.png\n",
      "Rescaling image: /home/jovyan/workspace/NEW_MICCAI_With_YOLOv8/code/../datasets/refined/train/labels/MICCAI_Patient_1_e262.png\n",
      "Rescaling image: /home/jovyan/workspace/NEW_MICCAI_With_YOLOv8/code/../datasets/refined/train/images/MICCAI_Patient_1_e262.png\n",
      "Rescaling image: /home/jovyan/workspace/NEW_MICCAI_With_YOLOv8/code/../datasets/refined/train/labels/MICCAI_Patient_3_e251.png\n",
      "Rescaling image: /home/jovyan/workspace/NEW_MICCAI_With_YOLOv8/code/../datasets/refined/train/images/MICCAI_Patient_3_e251.png\n",
      "Rescaling image: /home/jovyan/workspace/NEW_MICCAI_With_YOLOv8/code/../datasets/refined/train/labels/MICCAI_Patient_1_e258.png\n",
      "Rescaling image: /home/jovyan/workspace/NEW_MICCAI_With_YOLOv8/code/../datasets/refined/train/images/MICCAI_Patient_1_e258.png\n",
      "Rescaling image: /home/jovyan/workspace/NEW_MICCAI_With_YOLOv8/code/../datasets/refined/val/labels/MICCAI_Patient_0_e247.png\n",
      "Rescaling image: /home/jovyan/workspace/NEW_MICCAI_With_YOLOv8/code/../datasets/refined/val/images/MICCAI_Patient_0_e247.png\n",
      "Rescaling image: /home/jovyan/workspace/NEW_MICCAI_With_YOLOv8/code/../datasets/refined/val/labels/MICCAI_Patient_2_e207.png\n",
      "Rescaling image: /home/jovyan/workspace/NEW_MICCAI_With_YOLOv8/code/../datasets/refined/val/images/MICCAI_Patient_2_e207.png\n",
      "Rescaling image: /home/jovyan/workspace/NEW_MICCAI_With_YOLOv8/code/../datasets/refined/val/labels/MICCAI_Patient_2_e227.png\n",
      "Rescaling image: /home/jovyan/workspace/NEW_MICCAI_With_YOLOv8/code/../datasets/refined/val/images/MICCAI_Patient_2_e227.png\n",
      "Rescaling image: /home/jovyan/workspace/NEW_MICCAI_With_YOLOv8/code/../datasets/refined/val/labels/MICCAI_Patient_0_e238.png\n",
      "Rescaling image: /home/jovyan/workspace/NEW_MICCAI_With_YOLOv8/code/../datasets/refined/val/images/MICCAI_Patient_0_e238.png\n",
      "Rescaling image: /home/jovyan/workspace/NEW_MICCAI_With_YOLOv8/code/../datasets/refined/val/labels/MICCAI_Patient_0_e224.png\n",
      "Rescaling image: /home/jovyan/workspace/NEW_MICCAI_With_YOLOv8/code/../datasets/refined/val/images/MICCAI_Patient_0_e224.png\n",
      "Rescaling image: /home/jovyan/workspace/NEW_MICCAI_With_YOLOv8/code/../datasets/refined/val/labels/MICCAI_Patient_2_e194.png\n",
      "Rescaling image: /home/jovyan/workspace/NEW_MICCAI_With_YOLOv8/code/../datasets/refined/val/images/MICCAI_Patient_2_e194.png\n",
      "Rescaling image: /home/jovyan/workspace/NEW_MICCAI_With_YOLOv8/code/../datasets/refined/val/labels/MICCAI_Patient_0_e239.png\n",
      "Rescaling image: /home/jovyan/workspace/NEW_MICCAI_With_YOLOv8/code/../datasets/refined/val/images/MICCAI_Patient_0_e239.png\n",
      "Rescaling image: /home/jovyan/workspace/NEW_MICCAI_With_YOLOv8/code/../datasets/refined/val/labels/MICCAI_Patient_2_e224.png\n",
      "Rescaling image: /home/jovyan/workspace/NEW_MICCAI_With_YOLOv8/code/../datasets/refined/val/images/MICCAI_Patient_2_e224.png\n",
      "Rescaling image: /home/jovyan/workspace/NEW_MICCAI_With_YOLOv8/code/../datasets/refined/val/labels/MICCAI_Patient_0_e259.png\n",
      "Rescaling image: /home/jovyan/workspace/NEW_MICCAI_With_YOLOv8/code/../datasets/refined/val/images/MICCAI_Patient_0_e259.png\n",
      "Rescaling image: /home/jovyan/workspace/NEW_MICCAI_With_YOLOv8/code/../datasets/refined/val/labels/MICCAI_Patient_2_e204.png\n",
      "Rescaling image: /home/jovyan/workspace/NEW_MICCAI_With_YOLOv8/code/../datasets/refined/val/images/MICCAI_Patient_2_e204.png\n",
      "Rescaling image: /home/jovyan/workspace/NEW_MICCAI_With_YOLOv8/code/../datasets/refined/test/labels/MICCAI_Patient_2_e231.png\n",
      "Rescaling image: /home/jovyan/workspace/NEW_MICCAI_With_YOLOv8/code/../datasets/refined/test/images/MICCAI_Patient_2_e231.png\n",
      "Rescaling image: /home/jovyan/workspace/NEW_MICCAI_With_YOLOv8/code/../datasets/refined/test/labels/MICCAI_Patient_0_e223.png\n",
      "Rescaling image: /home/jovyan/workspace/NEW_MICCAI_With_YOLOv8/code/../datasets/refined/test/images/MICCAI_Patient_0_e223.png\n",
      "Rescaling image: /home/jovyan/workspace/NEW_MICCAI_With_YOLOv8/code/../datasets/refined/test/labels/MICCAI_Patient_1_e244.png\n",
      "Rescaling image: /home/jovyan/workspace/NEW_MICCAI_With_YOLOv8/code/../datasets/refined/test/images/MICCAI_Patient_1_e244.png\n",
      "Rescaling image: /home/jovyan/workspace/NEW_MICCAI_With_YOLOv8/code/../datasets/refined/test/labels/MICCAI_Patient_1_e255.png\n",
      "Rescaling image: /home/jovyan/workspace/NEW_MICCAI_With_YOLOv8/code/../datasets/refined/test/images/MICCAI_Patient_1_e255.png\n",
      "Rescaling image: /home/jovyan/workspace/NEW_MICCAI_With_YOLOv8/code/../datasets/refined/test/labels/MICCAI_Patient_2_e249.png\n",
      "Rescaling image: /home/jovyan/workspace/NEW_MICCAI_With_YOLOv8/code/../datasets/refined/test/images/MICCAI_Patient_2_e249.png\n",
      "Rescaling image: /home/jovyan/workspace/NEW_MICCAI_With_YOLOv8/code/../datasets/refined/test/labels/MICCAI_Patient_0_e214.png\n",
      "Rescaling image: /home/jovyan/workspace/NEW_MICCAI_With_YOLOv8/code/../datasets/refined/test/images/MICCAI_Patient_0_e214.png\n",
      "Rescaling image: /home/jovyan/workspace/NEW_MICCAI_With_YOLOv8/code/../datasets/refined/test/labels/MICCAI_Patient_0_e230.png\n",
      "Rescaling image: /home/jovyan/workspace/NEW_MICCAI_With_YOLOv8/code/../datasets/refined/test/images/MICCAI_Patient_0_e230.png\n",
      "Rescaling image: /home/jovyan/workspace/NEW_MICCAI_With_YOLOv8/code/../datasets/refined/test/labels/MICCAI_Patient_1_e231.png\n",
      "Rescaling image: /home/jovyan/workspace/NEW_MICCAI_With_YOLOv8/code/../datasets/refined/test/images/MICCAI_Patient_1_e231.png\n",
      "Rescaling image: /home/jovyan/workspace/NEW_MICCAI_With_YOLOv8/code/../datasets/refined/test/labels/MICCAI_Patient_0_e264.png\n",
      "Rescaling image: /home/jovyan/workspace/NEW_MICCAI_With_YOLOv8/code/../datasets/refined/test/images/MICCAI_Patient_0_e264.png\n",
      "Rescaling image: /home/jovyan/workspace/NEW_MICCAI_With_YOLOv8/code/../datasets/refined/test/labels/MICCAI_Patient_1_e222.png\n",
      "Rescaling image: /home/jovyan/workspace/NEW_MICCAI_With_YOLOv8/code/../datasets/refined/test/images/MICCAI_Patient_1_e222.png\n",
      "Rescaling image: /home/jovyan/workspace/NEW_MICCAI_With_YOLOv8/code/../datasets/refined/test/labels/MICCAI_Patient_1_e200.png\n",
      "Rescaling image: /home/jovyan/workspace/NEW_MICCAI_With_YOLOv8/code/../datasets/refined/test/images/MICCAI_Patient_1_e200.png\n",
      "Rescaling image: /home/jovyan/workspace/NEW_MICCAI_With_YOLOv8/code/../datasets/refined/test/labels/MICCAI_Patient_2_e258.png\n",
      "Rescaling image: /home/jovyan/workspace/NEW_MICCAI_With_YOLOv8/code/../datasets/refined/test/images/MICCAI_Patient_2_e258.png\n",
      "Rescaling image: /home/jovyan/workspace/NEW_MICCAI_With_YOLOv8/code/../datasets/refined/test/labels/MICCAI_Patient_2_e214.png\n",
      "Rescaling image: /home/jovyan/workspace/NEW_MICCAI_With_YOLOv8/code/../datasets/refined/test/images/MICCAI_Patient_2_e214.png\n",
      "Rescaling image: /home/jovyan/workspace/NEW_MICCAI_With_YOLOv8/code/../datasets/refined/test/labels/MICCAI_Patient_2_e243.png\n",
      "Rescaling image: /home/jovyan/workspace/NEW_MICCAI_With_YOLOv8/code/../datasets/refined/test/images/MICCAI_Patient_2_e243.png\n",
      "Rescaling image: /home/jovyan/workspace/NEW_MICCAI_With_YOLOv8/code/../datasets/refined/test/labels/MICCAI_Patient_0_e204.png\n",
      "Rescaling image: /home/jovyan/workspace/NEW_MICCAI_With_YOLOv8/code/../datasets/refined/test/images/MICCAI_Patient_0_e204.png\n",
      "convertpath /\n",
      "convertpath /home/\n",
      "convertpath /home/jovyan/\n",
      "convertpath /home/jovyan/workspace/\n",
      "convertpath /home/jovyan/workspace/NEW_MICCAI_With_YOLOv8/\n",
      "convertpath /home/jovyan/workspace/NEW_MICCAI_With_YOLOv8/\n",
      "convertpath /home/jovyan/workspace/NEW_MICCAI_With_YOLOv8/\n",
      "convertpath /home/jovyan/workspace/NEW_MICCAI_With_YOLOv8/datasets/\n",
      "convertpath /home/jovyan/workspace/NEW_MICCAI_With_YOLOv8/datasets/refined/\n",
      "/home/jovyan/workspace/NEW_MICCAI_With_YOLOv8/datasets/refined/\n",
      "/home/jovyan/workspace/NEW_MICCAI_With_YOLOv8/datasets/refined/train\n",
      "True\n",
      "loading annotations into memory...\n",
      "Done (t=0.00s)\n",
      "creating index...\n",
      "index created!\n"
     ]
    },
    {
     "name": "stderr",
     "output_type": "stream",
     "text": [
      "100%|██████████| 40/40 [00:00<00:00, 12878.80it/s]\n"
     ]
    },
    {
     "name": "stdout",
     "output_type": "stream",
     "text": [
      "MICCAI_Patient_6_e260.png\n",
      "/home/jovyan/workspace/NEW_MICCAI_With_YOLOv8/datasets/refined/train/labels\n",
      "MICCAI_Patient_1_e248.png\n",
      "/home/jovyan/workspace/NEW_MICCAI_With_YOLOv8/datasets/refined/train/labels\n",
      "MICCAI_Patient_1_e241.png\n",
      "/home/jovyan/workspace/NEW_MICCAI_With_YOLOv8/datasets/refined/train/labels\n",
      "MICCAI_Patient_6_e218.png\n",
      "/home/jovyan/workspace/NEW_MICCAI_With_YOLOv8/datasets/refined/train/labels\n",
      "MICCAI_Patient_1_e250.png\n",
      "/home/jovyan/workspace/NEW_MICCAI_With_YOLOv8/datasets/refined/train/labels\n",
      "MICCAI_Patient_3_e244.png\n",
      "/home/jovyan/workspace/NEW_MICCAI_With_YOLOv8/datasets/refined/train/labels\n",
      "MICCAI_Patient_6_e258.png\n",
      "/home/jovyan/workspace/NEW_MICCAI_With_YOLOv8/datasets/refined/train/labels\n",
      "MICCAI_Patient_3_e219.png\n",
      "/home/jovyan/workspace/NEW_MICCAI_With_YOLOv8/datasets/refined/train/labels\n",
      "MICCAI_Patient_3_e258.png\n",
      "/home/jovyan/workspace/NEW_MICCAI_With_YOLOv8/datasets/refined/train/labels\n",
      "MICCAI_Patient_6_e219.png\n",
      "/home/jovyan/workspace/NEW_MICCAI_With_YOLOv8/datasets/refined/train/labels\n",
      "MICCAI_Patient_6_e259.png\n",
      "/home/jovyan/workspace/NEW_MICCAI_With_YOLOv8/datasets/refined/train/labels\n",
      "MICCAI_Patient_3_e272.png\n",
      "/home/jovyan/workspace/NEW_MICCAI_With_YOLOv8/datasets/refined/train/labels\n",
      "MICCAI_Patient_1_e262.png\n",
      "/home/jovyan/workspace/NEW_MICCAI_With_YOLOv8/datasets/refined/train/labels\n",
      "MICCAI_Patient_3_e251.png\n",
      "/home/jovyan/workspace/NEW_MICCAI_With_YOLOv8/datasets/refined/train/labels\n",
      "MICCAI_Patient_1_e258.png\n",
      "/home/jovyan/workspace/NEW_MICCAI_With_YOLOv8/datasets/refined/train/labels\n",
      "MICCAI_Patient_0_e247.png\n",
      "MICCAI_Patient_2_e207.png\n",
      "MICCAI_Patient_2_e227.png\n",
      "MICCAI_Patient_0_e238.png\n",
      "MICCAI_Patient_0_e224.png\n",
      "MICCAI_Patient_2_e194.png\n",
      "MICCAI_Patient_0_e239.png\n",
      "MICCAI_Patient_2_e224.png\n",
      "MICCAI_Patient_0_e259.png\n",
      "MICCAI_Patient_2_e204.png\n",
      "MICCAI_Patient_2_e231.png\n",
      "MICCAI_Patient_0_e223.png\n",
      "MICCAI_Patient_1_e244.png\n",
      "MICCAI_Patient_1_e255.png\n",
      "MICCAI_Patient_2_e249.png\n",
      "MICCAI_Patient_0_e214.png\n",
      "MICCAI_Patient_0_e230.png\n",
      "MICCAI_Patient_1_e231.png\n",
      "MICCAI_Patient_0_e264.png\n",
      "MICCAI_Patient_1_e222.png\n",
      "MICCAI_Patient_1_e200.png\n",
      "MICCAI_Patient_2_e258.png\n",
      "MICCAI_Patient_2_e214.png\n",
      "MICCAI_Patient_2_e243.png\n",
      "MICCAI_Patient_0_e204.png\n",
      "loading annotations into memory...\n",
      "Done (t=0.00s)\n",
      "creating index...\n",
      "index created!\n"
     ]
    },
    {
     "name": "stderr",
     "output_type": "stream",
     "text": [
      "100%|██████████| 40/40 [00:00<00:00, 17829.13it/s]\n"
     ]
    },
    {
     "name": "stdout",
     "output_type": "stream",
     "text": [
      "MICCAI_Patient_6_e260.png\n",
      "MICCAI_Patient_1_e248.png\n",
      "MICCAI_Patient_1_e241.png\n",
      "MICCAI_Patient_6_e218.png\n",
      "MICCAI_Patient_1_e250.png\n",
      "MICCAI_Patient_3_e244.png\n",
      "MICCAI_Patient_6_e258.png\n",
      "MICCAI_Patient_3_e219.png\n",
      "MICCAI_Patient_3_e258.png\n",
      "MICCAI_Patient_6_e219.png\n",
      "MICCAI_Patient_6_e259.png\n",
      "MICCAI_Patient_3_e272.png\n",
      "MICCAI_Patient_1_e262.png\n",
      "MICCAI_Patient_3_e251.png\n",
      "MICCAI_Patient_1_e258.png\n",
      "MICCAI_Patient_0_e247.png\n",
      "MICCAI_Patient_2_e207.png\n",
      "MICCAI_Patient_2_e227.png\n",
      "MICCAI_Patient_0_e238.png\n",
      "MICCAI_Patient_0_e224.png\n",
      "MICCAI_Patient_2_e194.png\n",
      "MICCAI_Patient_0_e239.png\n",
      "MICCAI_Patient_2_e224.png\n",
      "MICCAI_Patient_0_e259.png\n",
      "MICCAI_Patient_2_e204.png\n",
      "MICCAI_Patient_2_e231.png\n",
      "/home/jovyan/workspace/NEW_MICCAI_With_YOLOv8/datasets/refined/test/labels\n",
      "MICCAI_Patient_0_e223.png\n",
      "/home/jovyan/workspace/NEW_MICCAI_With_YOLOv8/datasets/refined/test/labels\n",
      "MICCAI_Patient_1_e244.png\n",
      "/home/jovyan/workspace/NEW_MICCAI_With_YOLOv8/datasets/refined/test/labels\n",
      "MICCAI_Patient_1_e255.png\n",
      "/home/jovyan/workspace/NEW_MICCAI_With_YOLOv8/datasets/refined/test/labels\n",
      "MICCAI_Patient_2_e249.png\n",
      "/home/jovyan/workspace/NEW_MICCAI_With_YOLOv8/datasets/refined/test/labels\n",
      "MICCAI_Patient_0_e214.png\n",
      "/home/jovyan/workspace/NEW_MICCAI_With_YOLOv8/datasets/refined/test/labels\n",
      "MICCAI_Patient_0_e230.png\n",
      "/home/jovyan/workspace/NEW_MICCAI_With_YOLOv8/datasets/refined/test/labels\n",
      "MICCAI_Patient_1_e231.png\n",
      "/home/jovyan/workspace/NEW_MICCAI_With_YOLOv8/datasets/refined/test/labels\n",
      "MICCAI_Patient_0_e264.png\n",
      "/home/jovyan/workspace/NEW_MICCAI_With_YOLOv8/datasets/refined/test/labels\n",
      "MICCAI_Patient_1_e222.png\n",
      "/home/jovyan/workspace/NEW_MICCAI_With_YOLOv8/datasets/refined/test/labels\n",
      "MICCAI_Patient_1_e200.png\n",
      "/home/jovyan/workspace/NEW_MICCAI_With_YOLOv8/datasets/refined/test/labels\n",
      "MICCAI_Patient_2_e258.png\n",
      "/home/jovyan/workspace/NEW_MICCAI_With_YOLOv8/datasets/refined/test/labels\n",
      "MICCAI_Patient_2_e214.png\n",
      "/home/jovyan/workspace/NEW_MICCAI_With_YOLOv8/datasets/refined/test/labels\n",
      "MICCAI_Patient_2_e243.png\n",
      "/home/jovyan/workspace/NEW_MICCAI_With_YOLOv8/datasets/refined/test/labels\n",
      "MICCAI_Patient_0_e204.png\n",
      "/home/jovyan/workspace/NEW_MICCAI_With_YOLOv8/datasets/refined/test/labels\n",
      "loading annotations into memory...\n",
      "Done (t=0.00s)\n",
      "creating index...\n",
      "index created!\n"
     ]
    },
    {
     "name": "stderr",
     "output_type": "stream",
     "text": [
      "100%|██████████| 40/40 [00:00<00:00, 20118.98it/s]"
     ]
    },
    {
     "name": "stdout",
     "output_type": "stream",
     "text": [
      "MICCAI_Patient_6_e260.png\n",
      "MICCAI_Patient_1_e248.png\n",
      "MICCAI_Patient_1_e241.png\n",
      "MICCAI_Patient_6_e218.png\n",
      "MICCAI_Patient_1_e250.png\n",
      "MICCAI_Patient_3_e244.png\n",
      "MICCAI_Patient_6_e258.png\n",
      "MICCAI_Patient_3_e219.png\n",
      "MICCAI_Patient_3_e258.png\n",
      "MICCAI_Patient_6_e219.png\n",
      "MICCAI_Patient_6_e259.png\n",
      "MICCAI_Patient_3_e272.png\n",
      "MICCAI_Patient_1_e262.png\n",
      "MICCAI_Patient_3_e251.png\n",
      "MICCAI_Patient_1_e258.png\n",
      "MICCAI_Patient_0_e247.png\n",
      "/home/jovyan/workspace/NEW_MICCAI_With_YOLOv8/datasets/refined/val/labels\n",
      "MICCAI_Patient_2_e207.png\n",
      "/home/jovyan/workspace/NEW_MICCAI_With_YOLOv8/datasets/refined/val/labels\n",
      "MICCAI_Patient_2_e227.png\n",
      "/home/jovyan/workspace/NEW_MICCAI_With_YOLOv8/datasets/refined/val/labels\n",
      "MICCAI_Patient_0_e238.png\n",
      "/home/jovyan/workspace/NEW_MICCAI_With_YOLOv8/datasets/refined/val/labels\n",
      "MICCAI_Patient_0_e224.png\n",
      "/home/jovyan/workspace/NEW_MICCAI_With_YOLOv8/datasets/refined/val/labels\n",
      "MICCAI_Patient_2_e194.png\n",
      "/home/jovyan/workspace/NEW_MICCAI_With_YOLOv8/datasets/refined/val/labels\n",
      "MICCAI_Patient_0_e239.png\n",
      "/home/jovyan/workspace/NEW_MICCAI_With_YOLOv8/datasets/refined/val/labels\n",
      "MICCAI_Patient_2_e224.png\n",
      "/home/jovyan/workspace/NEW_MICCAI_With_YOLOv8/datasets/refined/val/labels\n",
      "MICCAI_Patient_0_e259.png\n",
      "/home/jovyan/workspace/NEW_MICCAI_With_YOLOv8/datasets/refined/val/labels\n",
      "MICCAI_Patient_2_e204.png\n",
      "/home/jovyan/workspace/NEW_MICCAI_With_YOLOv8/datasets/refined/val/labels\n",
      "MICCAI_Patient_2_e231.png\n",
      "MICCAI_Patient_0_e223.png\n",
      "MICCAI_Patient_1_e244.png\n",
      "MICCAI_Patient_1_e255.png\n",
      "MICCAI_Patient_2_e249.png\n",
      "MICCAI_Patient_0_e214.png\n",
      "MICCAI_Patient_0_e230.png\n",
      "MICCAI_Patient_1_e231.png\n",
      "MICCAI_Patient_0_e264.png\n",
      "MICCAI_Patient_1_e222.png\n",
      "MICCAI_Patient_1_e200.png\n",
      "MICCAI_Patient_2_e258.png\n",
      "MICCAI_Patient_2_e214.png\n",
      "MICCAI_Patient_2_e243.png\n",
      "MICCAI_Patient_0_e204.png\n"
     ]
    },
    {
     "name": "stderr",
     "output_type": "stream",
     "text": [
      "\n"
     ]
    }
   ],
   "source": [
    "frm.formatage_main(path_vers_datasets_refined,mode,resize)"
   ]
  },
  {
   "cell_type": "markdown",
   "metadata": {},
   "source": [
    "_______________________________________________________________________________________________________________________________________________________________"
   ]
  },
  {
   "cell_type": "markdown",
   "metadata": {},
   "source": [
    "3) __Implémentation de YOLOv8 : entrainement__\n",
    "\n",
    "__ATTENTION__ : 'le fichier data.yaml généré à l'opération précédente se situe dans le répertoire datasets/refined, il faut modifier le chemin d'accés dans la déclaration du model ou renomer puis déplacer data.yaml dans le fichier code"
   ]
  },
  {
   "cell_type": "code",
   "execution_count": 4,
   "metadata": {
    "execution": {
     "iopub.execute_input": "2023-06-27T13:06:44.683581Z",
     "iopub.status.busy": "2023-06-27T13:06:44.682857Z",
     "iopub.status.idle": "2023-06-27T13:06:45.785536Z",
     "shell.execute_reply": "2023-06-27T13:06:45.784819Z",
     "shell.execute_reply.started": "2023-06-27T13:06:44.683546Z"
    },
    "tags": []
   },
   "outputs": [
    {
     "name": "stderr",
     "output_type": "stream",
     "text": [
      "\n",
      "                   from  n    params  module                                       arguments                     \n",
      "  0                  -1  1      1856  ultralytics.nn.modules.Conv                  [3, 64, 3, 2]                 \n",
      "  1                  -1  1     73984  ultralytics.nn.modules.Conv                  [64, 128, 3, 2]               \n",
      "  2                  -1  3    279808  ultralytics.nn.modules.C2f                   [128, 128, 3, True]           \n",
      "  3                  -1  1    295424  ultralytics.nn.modules.Conv                  [128, 256, 3, 2]              \n",
      "  4                  -1  6   2101248  ultralytics.nn.modules.C2f                   [256, 256, 6, True]           \n",
      "  5                  -1  1   1180672  ultralytics.nn.modules.Conv                  [256, 512, 3, 2]              \n",
      "  6                  -1  6   8396800  ultralytics.nn.modules.C2f                   [512, 512, 6, True]           \n",
      "  7                  -1  1   2360320  ultralytics.nn.modules.Conv                  [512, 512, 3, 2]              \n",
      "  8                  -1  3   4461568  ultralytics.nn.modules.C2f                   [512, 512, 3, True]           \n",
      "  9                  -1  1    656896  ultralytics.nn.modules.SPPF                  [512, 512, 5]                 \n",
      " 10                  -1  1         0  torch.nn.modules.upsampling.Upsample         [None, 2, 'nearest']          \n",
      " 11             [-1, 6]  1         0  ultralytics.nn.modules.Concat                [1]                           \n",
      " 12                  -1  3   4723712  ultralytics.nn.modules.C2f                   [1024, 512, 3]                \n",
      " 13                  -1  1         0  torch.nn.modules.upsampling.Upsample         [None, 2, 'nearest']          \n",
      " 14             [-1, 4]  1         0  ultralytics.nn.modules.Concat                [1]                           \n",
      " 15                  -1  3   1247744  ultralytics.nn.modules.C2f                   [768, 256, 3]                 \n",
      " 16                  -1  1    590336  ultralytics.nn.modules.Conv                  [256, 256, 3, 2]              \n",
      " 17            [-1, 12]  1         0  ultralytics.nn.modules.Concat                [1]                           \n",
      " 18                  -1  3   4592640  ultralytics.nn.modules.C2f                   [768, 512, 3]                 \n",
      " 19                  -1  1   2360320  ultralytics.nn.modules.Conv                  [512, 512, 3, 2]              \n",
      " 20             [-1, 9]  1         0  ultralytics.nn.modules.Concat                [1]                           \n",
      " 21                  -1  3   4723712  ultralytics.nn.modules.C2f                   [1024, 512, 3]                \n",
      " 22        [15, 18, 21]  1   7950688  ultralytics.nn.modules.Segment               [80, 32, 256, [256, 512, 512]]\n",
      "YOLOv8l-seg summary: 401 layers, 45997728 parameters, 45997712 gradients, 221.1 GFLOPs\n",
      "\n"
     ]
    }
   ],
   "source": [
    "#MICCAI\n",
    "#model = YOLO('/home/jovyan/workspace/Yolov8/runs/detect/BRATS2/weights/best.pt'\n",
    "type_reseau = 'seg'\n",
    "tache = ''\n",
    "dirSortie =''\n",
    "\n",
    "'''if type_reseau == 'bbox':\n",
    "    model = YOLO('yolov8l.yaml') # yolov8l.yaml pour partir d'un modéle vierge, sinon indiquer le chemin vers model(.pt) pré-entrainé\n",
    "    yaml = 'dataBBOX.yaml'\n",
    "    tache = 'detect'\n",
    "    dirSortie ='BRATS_Bbox' '''\n",
    "    \n",
    "#elif type_reseau == 'seg':\n",
    "model = YOLO('yolov8l-seg.yaml') # yolov8l-seg.yaml pour partir d'un modéle vierge, sinon indiquer le chemin vers model(.pt) pré-entrainé\n",
    "yaml = 'dataSEG.yaml'\n",
    "tache = 'segment'\n",
    "dirSortie ='MICCAI_Seg'"
   ]
  },
  {
   "cell_type": "code",
   "execution_count": 5,
   "metadata": {
    "execution": {
     "iopub.execute_input": "2023-06-27T13:06:45.787078Z",
     "iopub.status.busy": "2023-06-27T13:06:45.786749Z",
     "iopub.status.idle": "2023-06-27T13:07:00.294800Z",
     "shell.execute_reply": "2023-06-27T13:07:00.293652Z",
     "shell.execute_reply.started": "2023-06-27T13:06:45.787056Z"
    },
    "tags": []
   },
   "outputs": [
    {
     "name": "stderr",
     "output_type": "stream",
     "text": [
      "Ultralytics YOLOv8.0.11 🚀 Python-3.9.13 torch-1.13.1+cu117 CUDA:0 (Tesla T4, 15110MiB)\n",
      "\u001b[34m\u001b[1myolo/engine/trainer: \u001b[0mtask=segment, mode=train, model=None, data=dataSEG.yaml, epochs=50, patience=50, batch=10, imgsz=128, save=True, cache=False, device=None, workers=2, project=None, name=MICCAI_Seg, exist_ok=False, pretrained=False, optimizer=SGD, verbose=False, seed=0, deterministic=True, single_cls=False, image_weights=False, rect=False, cos_lr=False, close_mosaic=10, resume=False, overlap_mask=True, mask_ratio=4, dropout=0.0, val=True, save_json=False, save_hybrid=False, conf=None, iou=0.7, max_det=300, half=False, dnn=False, plots=True, source=None, show=False, save_txt=False, save_conf=False, save_crop=False, hide_labels=False, hide_conf=False, vid_stride=1, line_thickness=3, visualize=False, augment=False, agnostic_nms=False, retina_masks=False, format=torchscript, keras=False, optimize=False, int8=False, dynamic=False, simplify=False, opset=17, workspace=4, nms=False, lr0=0.01, lrf=0.01, momentum=0.937, weight_decay=0.0005, warmup_epochs=3.0, warmup_momentum=0.8, warmup_bias_lr=0.1, box=7.5, cls=0.5, dfl=1.5, fl_gamma=0.0, label_smoothing=0.0, nbs=64, hsv_h=0.015, hsv_s=0.7, hsv_v=0.4, degrees=0.0, translate=0.1, scale=0.5, shear=0.0, perspective=0.0, flipud=0.0, fliplr=0.5, mosaic=1.0, mixup=0.0, copy_paste=0.0, cfg=None, hydra={'output_subdir': None, 'run': {'dir': '.'}}, v5loader=False, save_dir=runs/segment/MICCAI_Seg4\n",
      "Overriding model.yaml nc=80 with nc=1\n",
      "\n",
      "                   from  n    params  module                                       arguments                     \n",
      "  0                  -1  1      1856  ultralytics.nn.modules.Conv                  [3, 64, 3, 2]                 \n",
      "  1                  -1  1     73984  ultralytics.nn.modules.Conv                  [64, 128, 3, 2]               \n",
      "  2                  -1  3    279808  ultralytics.nn.modules.C2f                   [128, 128, 3, True]           \n",
      "  3                  -1  1    295424  ultralytics.nn.modules.Conv                  [128, 256, 3, 2]              \n",
      "  4                  -1  6   2101248  ultralytics.nn.modules.C2f                   [256, 256, 6, True]           \n",
      "  5                  -1  1   1180672  ultralytics.nn.modules.Conv                  [256, 512, 3, 2]              \n",
      "  6                  -1  6   8396800  ultralytics.nn.modules.C2f                   [512, 512, 6, True]           \n",
      "  7                  -1  1   2360320  ultralytics.nn.modules.Conv                  [512, 512, 3, 2]              \n",
      "  8                  -1  3   4461568  ultralytics.nn.modules.C2f                   [512, 512, 3, True]           \n",
      "  9                  -1  1    656896  ultralytics.nn.modules.SPPF                  [512, 512, 5]                 \n",
      " 10                  -1  1         0  torch.nn.modules.upsampling.Upsample         [None, 2, 'nearest']          \n",
      " 11             [-1, 6]  1         0  ultralytics.nn.modules.Concat                [1]                           \n",
      " 12                  -1  3   4723712  ultralytics.nn.modules.C2f                   [1024, 512, 3]                \n",
      " 13                  -1  1         0  torch.nn.modules.upsampling.Upsample         [None, 2, 'nearest']          \n",
      " 14             [-1, 4]  1         0  ultralytics.nn.modules.Concat                [1]                           \n",
      " 15                  -1  3   1247744  ultralytics.nn.modules.C2f                   [768, 256, 3]                 \n",
      " 16                  -1  1    590336  ultralytics.nn.modules.Conv                  [256, 256, 3, 2]              \n",
      " 17            [-1, 12]  1         0  ultralytics.nn.modules.Concat                [1]                           \n",
      " 18                  -1  3   4592640  ultralytics.nn.modules.C2f                   [768, 512, 3]                 \n",
      " 19                  -1  1   2360320  ultralytics.nn.modules.Conv                  [512, 512, 3, 2]              \n",
      " 20             [-1, 9]  1         0  ultralytics.nn.modules.Concat                [1]                           \n",
      " 21                  -1  3   4723712  ultralytics.nn.modules.C2f                   [1024, 512, 3]                \n",
      " 22        [15, 18, 21]  1   7889779  ultralytics.nn.modules.Segment               [1, 32, 256, [256, 512, 512]] \n",
      "YOLOv8l-seg summary: 401 layers, 45936819 parameters, 45936803 gradients, 220.8 GFLOPs\n",
      "\n",
      "2023-06-27 13:06:48.005156: I tensorflow/core/util/util.cc:169] oneDNN custom operations are on. You may see slightly different numerical results due to floating-point round-off errors from different computation orders. To turn them off, set the environment variable `TF_ENABLE_ONEDNN_OPTS=0`.\n"
     ]
    },
    {
     "ename": "KeyboardInterrupt",
     "evalue": "",
     "output_type": "error",
     "traceback": [
      "\u001b[0;31m---------------------------------------------------------------------------\u001b[0m",
      "\u001b[0;31mKeyboardInterrupt\u001b[0m                         Traceback (most recent call last)",
      "Cell \u001b[0;32mIn [5], line 2\u001b[0m\n\u001b[1;32m      1\u001b[0m \u001b[38;5;66;03m#train BRATS\u001b[39;00m\n\u001b[0;32m----> 2\u001b[0m results \u001b[38;5;241m=\u001b[39m model\u001b[38;5;241m.\u001b[39mtrain(\n\u001b[1;32m      3\u001b[0m \n\u001b[1;32m      4\u001b[0m    \u001b[38;5;66;03m# il y a d'autres parametres possible => cf. site ultralytics yolov8\u001b[39;00m\n\u001b[1;32m      5\u001b[0m    data\u001b[38;5;241m=\u001b[39myaml,\n\u001b[1;32m      6\u001b[0m    task\u001b[38;5;241m=\u001b[39mtache,\n\u001b[1;32m      7\u001b[0m    imgsz\u001b[38;5;241m=\u001b[39m\u001b[38;5;241m128\u001b[39m,\n\u001b[1;32m      8\u001b[0m    epochs\u001b[38;5;241m=\u001b[39m\u001b[38;5;241m50\u001b[39m,\n\u001b[1;32m      9\u001b[0m    batch\u001b[38;5;241m=\u001b[39m\u001b[38;5;241m10\u001b[39m,\n\u001b[1;32m     10\u001b[0m    name\u001b[38;5;241m=\u001b[39m\u001b[38;5;124m'\u001b[39m\u001b[38;5;124mMICCAI_Seg\u001b[39m\u001b[38;5;124m'\u001b[39m, \u001b[38;5;66;03m# nom du répertoire de sortie\u001b[39;00m\n\u001b[1;32m     11\u001b[0m    workers \u001b[38;5;241m=\u001b[39m \u001b[38;5;241m2\u001b[39m,\n\u001b[1;32m     12\u001b[0m    augment\u001b[38;5;241m=\u001b[39m \u001b[38;5;28;01mFalse\u001b[39;00m,\n\u001b[1;32m     13\u001b[0m )\n",
      "File \u001b[0;32m/opt/saturncloud/envs/saturn/lib/python3.9/site-packages/ultralytics/yolo/engine/model.py:203\u001b[0m, in \u001b[0;36mYOLO.train\u001b[0;34m(self, **kwargs)\u001b[0m\n\u001b[1;32m    201\u001b[0m     \u001b[38;5;28mself\u001b[39m\u001b[38;5;241m.\u001b[39mtrainer\u001b[38;5;241m.\u001b[39mmodel \u001b[38;5;241m=\u001b[39m \u001b[38;5;28mself\u001b[39m\u001b[38;5;241m.\u001b[39mtrainer\u001b[38;5;241m.\u001b[39mget_model(weights\u001b[38;5;241m=\u001b[39m\u001b[38;5;28mself\u001b[39m\u001b[38;5;241m.\u001b[39mmodel \u001b[38;5;28;01mif\u001b[39;00m \u001b[38;5;28mself\u001b[39m\u001b[38;5;241m.\u001b[39mckpt \u001b[38;5;28;01melse\u001b[39;00m \u001b[38;5;28;01mNone\u001b[39;00m, cfg\u001b[38;5;241m=\u001b[39m\u001b[38;5;28mself\u001b[39m\u001b[38;5;241m.\u001b[39mmodel\u001b[38;5;241m.\u001b[39myaml)\n\u001b[1;32m    202\u001b[0m     \u001b[38;5;28mself\u001b[39m\u001b[38;5;241m.\u001b[39mmodel \u001b[38;5;241m=\u001b[39m \u001b[38;5;28mself\u001b[39m\u001b[38;5;241m.\u001b[39mtrainer\u001b[38;5;241m.\u001b[39mmodel\n\u001b[0;32m--> 203\u001b[0m \u001b[38;5;28;43mself\u001b[39;49m\u001b[38;5;241;43m.\u001b[39;49m\u001b[43mtrainer\u001b[49m\u001b[38;5;241;43m.\u001b[39;49m\u001b[43mtrain\u001b[49m\u001b[43m(\u001b[49m\u001b[43m)\u001b[49m\n\u001b[1;32m    204\u001b[0m \u001b[38;5;66;03m# update model and configs after training\u001b[39;00m\n\u001b[1;32m    205\u001b[0m \u001b[38;5;28mself\u001b[39m\u001b[38;5;241m.\u001b[39mmodel, _ \u001b[38;5;241m=\u001b[39m attempt_load_one_weight(\u001b[38;5;28mstr\u001b[39m(\u001b[38;5;28mself\u001b[39m\u001b[38;5;241m.\u001b[39mtrainer\u001b[38;5;241m.\u001b[39mbest))\n",
      "File \u001b[0;32m/opt/saturncloud/envs/saturn/lib/python3.9/site-packages/ultralytics/yolo/engine/trainer.py:185\u001b[0m, in \u001b[0;36mBaseTrainer.train\u001b[0;34m(self)\u001b[0m\n\u001b[1;32m    183\u001b[0m         ddp_cleanup(command, \u001b[38;5;28mself\u001b[39m)\n\u001b[1;32m    184\u001b[0m \u001b[38;5;28;01melse\u001b[39;00m:\n\u001b[0;32m--> 185\u001b[0m     \u001b[38;5;28;43mself\u001b[39;49m\u001b[38;5;241;43m.\u001b[39;49m\u001b[43m_do_train\u001b[49m\u001b[43m(\u001b[49m\u001b[38;5;28;43mint\u001b[39;49m\u001b[43m(\u001b[49m\u001b[43mos\u001b[49m\u001b[38;5;241;43m.\u001b[39;49m\u001b[43mgetenv\u001b[49m\u001b[43m(\u001b[49m\u001b[38;5;124;43m\"\u001b[39;49m\u001b[38;5;124;43mRANK\u001b[39;49m\u001b[38;5;124;43m\"\u001b[39;49m\u001b[43m,\u001b[49m\u001b[43m \u001b[49m\u001b[38;5;241;43m-\u001b[39;49m\u001b[38;5;241;43m1\u001b[39;49m\u001b[43m)\u001b[49m\u001b[43m)\u001b[49m\u001b[43m,\u001b[49m\u001b[43m \u001b[49m\u001b[43mworld_size\u001b[49m\u001b[43m)\u001b[49m\n",
      "File \u001b[0;32m/opt/saturncloud/envs/saturn/lib/python3.9/site-packages/ultralytics/yolo/engine/trainer.py:249\u001b[0m, in \u001b[0;36mBaseTrainer._do_train\u001b[0;34m(self, rank, world_size)\u001b[0m\n\u001b[1;32m    246\u001b[0m \u001b[38;5;28;01mif\u001b[39;00m world_size \u001b[38;5;241m>\u001b[39m \u001b[38;5;241m1\u001b[39m:\n\u001b[1;32m    247\u001b[0m     \u001b[38;5;28mself\u001b[39m\u001b[38;5;241m.\u001b[39m_setup_ddp(rank, world_size)\n\u001b[0;32m--> 249\u001b[0m \u001b[38;5;28;43mself\u001b[39;49m\u001b[38;5;241;43m.\u001b[39;49m\u001b[43m_setup_train\u001b[49m\u001b[43m(\u001b[49m\u001b[43mrank\u001b[49m\u001b[43m,\u001b[49m\u001b[43m \u001b[49m\u001b[43mworld_size\u001b[49m\u001b[43m)\u001b[49m\n\u001b[1;32m    251\u001b[0m \u001b[38;5;28mself\u001b[39m\u001b[38;5;241m.\u001b[39mepoch_time \u001b[38;5;241m=\u001b[39m \u001b[38;5;28;01mNone\u001b[39;00m\n\u001b[1;32m    252\u001b[0m \u001b[38;5;28mself\u001b[39m\u001b[38;5;241m.\u001b[39mepoch_time_start \u001b[38;5;241m=\u001b[39m time\u001b[38;5;241m.\u001b[39mtime()\n",
      "File \u001b[0;32m/opt/saturncloud/envs/saturn/lib/python3.9/site-packages/ultralytics/yolo/engine/trainer.py:202\u001b[0m, in \u001b[0;36mBaseTrainer._setup_train\u001b[0;34m(self, rank, world_size)\u001b[0m\n\u001b[1;32m    200\u001b[0m \u001b[38;5;28mself\u001b[39m\u001b[38;5;241m.\u001b[39mrun_callbacks(\u001b[38;5;124m\"\u001b[39m\u001b[38;5;124mon_pretrain_routine_start\u001b[39m\u001b[38;5;124m\"\u001b[39m)\n\u001b[1;32m    201\u001b[0m ckpt \u001b[38;5;241m=\u001b[39m \u001b[38;5;28mself\u001b[39m\u001b[38;5;241m.\u001b[39msetup_model()\n\u001b[0;32m--> 202\u001b[0m \u001b[38;5;28mself\u001b[39m\u001b[38;5;241m.\u001b[39mmodel \u001b[38;5;241m=\u001b[39m \u001b[38;5;28;43mself\u001b[39;49m\u001b[38;5;241;43m.\u001b[39;49m\u001b[43mmodel\u001b[49m\u001b[38;5;241;43m.\u001b[39;49m\u001b[43mto\u001b[49m\u001b[43m(\u001b[49m\u001b[38;5;28;43mself\u001b[39;49m\u001b[38;5;241;43m.\u001b[39;49m\u001b[43mdevice\u001b[49m\u001b[43m)\u001b[49m\n\u001b[1;32m    203\u001b[0m \u001b[38;5;28mself\u001b[39m\u001b[38;5;241m.\u001b[39mset_model_attributes()\n\u001b[1;32m    204\u001b[0m \u001b[38;5;28;01mif\u001b[39;00m world_size \u001b[38;5;241m>\u001b[39m \u001b[38;5;241m1\u001b[39m:\n",
      "File \u001b[0;32m/opt/saturncloud/envs/saturn/lib/python3.9/site-packages/torch/nn/modules/module.py:989\u001b[0m, in \u001b[0;36mModule.to\u001b[0;34m(self, *args, **kwargs)\u001b[0m\n\u001b[1;32m    985\u001b[0m         \u001b[38;5;28;01mreturn\u001b[39;00m t\u001b[38;5;241m.\u001b[39mto(device, dtype \u001b[38;5;28;01mif\u001b[39;00m t\u001b[38;5;241m.\u001b[39mis_floating_point() \u001b[38;5;129;01mor\u001b[39;00m t\u001b[38;5;241m.\u001b[39mis_complex() \u001b[38;5;28;01melse\u001b[39;00m \u001b[38;5;28;01mNone\u001b[39;00m,\n\u001b[1;32m    986\u001b[0m                     non_blocking, memory_format\u001b[38;5;241m=\u001b[39mconvert_to_format)\n\u001b[1;32m    987\u001b[0m     \u001b[38;5;28;01mreturn\u001b[39;00m t\u001b[38;5;241m.\u001b[39mto(device, dtype \u001b[38;5;28;01mif\u001b[39;00m t\u001b[38;5;241m.\u001b[39mis_floating_point() \u001b[38;5;129;01mor\u001b[39;00m t\u001b[38;5;241m.\u001b[39mis_complex() \u001b[38;5;28;01melse\u001b[39;00m \u001b[38;5;28;01mNone\u001b[39;00m, non_blocking)\n\u001b[0;32m--> 989\u001b[0m \u001b[38;5;28;01mreturn\u001b[39;00m \u001b[38;5;28;43mself\u001b[39;49m\u001b[38;5;241;43m.\u001b[39;49m\u001b[43m_apply\u001b[49m\u001b[43m(\u001b[49m\u001b[43mconvert\u001b[49m\u001b[43m)\u001b[49m\n",
      "File \u001b[0;32m/opt/saturncloud/envs/saturn/lib/python3.9/site-packages/ultralytics/nn/tasks.py:142\u001b[0m, in \u001b[0;36mBaseModel._apply\u001b[0;34m(self, fn)\u001b[0m\n\u001b[1;32m    131\u001b[0m \u001b[38;5;28;01mdef\u001b[39;00m \u001b[38;5;21m_apply\u001b[39m(\u001b[38;5;28mself\u001b[39m, fn):\n\u001b[1;32m    132\u001b[0m     \u001b[38;5;124;03m\"\"\"\u001b[39;00m\n\u001b[1;32m    133\u001b[0m \u001b[38;5;124;03m    `_apply()` is a function that applies a function to all the tensors in the model that are not\u001b[39;00m\n\u001b[1;32m    134\u001b[0m \u001b[38;5;124;03m    parameters or registered buffers\u001b[39;00m\n\u001b[0;32m   (...)\u001b[0m\n\u001b[1;32m    140\u001b[0m \u001b[38;5;124;03m        A model that is a Detect() object.\u001b[39;00m\n\u001b[1;32m    141\u001b[0m \u001b[38;5;124;03m    \"\"\"\u001b[39;00m\n\u001b[0;32m--> 142\u001b[0m     \u001b[38;5;28mself\u001b[39m \u001b[38;5;241m=\u001b[39m \u001b[38;5;28;43msuper\u001b[39;49m\u001b[43m(\u001b[49m\u001b[43m)\u001b[49m\u001b[38;5;241;43m.\u001b[39;49m\u001b[43m_apply\u001b[49m\u001b[43m(\u001b[49m\u001b[43mfn\u001b[49m\u001b[43m)\u001b[49m\n\u001b[1;32m    143\u001b[0m     m \u001b[38;5;241m=\u001b[39m \u001b[38;5;28mself\u001b[39m\u001b[38;5;241m.\u001b[39mmodel[\u001b[38;5;241m-\u001b[39m\u001b[38;5;241m1\u001b[39m]  \u001b[38;5;66;03m# Detect()\u001b[39;00m\n\u001b[1;32m    144\u001b[0m     \u001b[38;5;28;01mif\u001b[39;00m \u001b[38;5;28misinstance\u001b[39m(m, (Detect, Segment)):\n",
      "File \u001b[0;32m/opt/saturncloud/envs/saturn/lib/python3.9/site-packages/torch/nn/modules/module.py:641\u001b[0m, in \u001b[0;36mModule._apply\u001b[0;34m(self, fn)\u001b[0m\n\u001b[1;32m    639\u001b[0m \u001b[38;5;28;01mdef\u001b[39;00m \u001b[38;5;21m_apply\u001b[39m(\u001b[38;5;28mself\u001b[39m, fn):\n\u001b[1;32m    640\u001b[0m     \u001b[38;5;28;01mfor\u001b[39;00m module \u001b[38;5;129;01min\u001b[39;00m \u001b[38;5;28mself\u001b[39m\u001b[38;5;241m.\u001b[39mchildren():\n\u001b[0;32m--> 641\u001b[0m         \u001b[43mmodule\u001b[49m\u001b[38;5;241;43m.\u001b[39;49m\u001b[43m_apply\u001b[49m\u001b[43m(\u001b[49m\u001b[43mfn\u001b[49m\u001b[43m)\u001b[49m\n\u001b[1;32m    643\u001b[0m     \u001b[38;5;28;01mdef\u001b[39;00m \u001b[38;5;21mcompute_should_use_set_data\u001b[39m(tensor, tensor_applied):\n\u001b[1;32m    644\u001b[0m         \u001b[38;5;28;01mif\u001b[39;00m torch\u001b[38;5;241m.\u001b[39m_has_compatible_shallow_copy_type(tensor, tensor_applied):\n\u001b[1;32m    645\u001b[0m             \u001b[38;5;66;03m# If the new tensor has compatible tensor type as the existing tensor,\u001b[39;00m\n\u001b[1;32m    646\u001b[0m             \u001b[38;5;66;03m# the current behavior is to change the tensor in-place using `.data =`,\u001b[39;00m\n\u001b[0;32m   (...)\u001b[0m\n\u001b[1;32m    651\u001b[0m             \u001b[38;5;66;03m# global flag to let the user control whether they want the future\u001b[39;00m\n\u001b[1;32m    652\u001b[0m             \u001b[38;5;66;03m# behavior of overwriting the existing tensor or not.\u001b[39;00m\n",
      "File \u001b[0;32m/opt/saturncloud/envs/saturn/lib/python3.9/site-packages/torch/nn/modules/module.py:641\u001b[0m, in \u001b[0;36mModule._apply\u001b[0;34m(self, fn)\u001b[0m\n\u001b[1;32m    639\u001b[0m \u001b[38;5;28;01mdef\u001b[39;00m \u001b[38;5;21m_apply\u001b[39m(\u001b[38;5;28mself\u001b[39m, fn):\n\u001b[1;32m    640\u001b[0m     \u001b[38;5;28;01mfor\u001b[39;00m module \u001b[38;5;129;01min\u001b[39;00m \u001b[38;5;28mself\u001b[39m\u001b[38;5;241m.\u001b[39mchildren():\n\u001b[0;32m--> 641\u001b[0m         \u001b[43mmodule\u001b[49m\u001b[38;5;241;43m.\u001b[39;49m\u001b[43m_apply\u001b[49m\u001b[43m(\u001b[49m\u001b[43mfn\u001b[49m\u001b[43m)\u001b[49m\n\u001b[1;32m    643\u001b[0m     \u001b[38;5;28;01mdef\u001b[39;00m \u001b[38;5;21mcompute_should_use_set_data\u001b[39m(tensor, tensor_applied):\n\u001b[1;32m    644\u001b[0m         \u001b[38;5;28;01mif\u001b[39;00m torch\u001b[38;5;241m.\u001b[39m_has_compatible_shallow_copy_type(tensor, tensor_applied):\n\u001b[1;32m    645\u001b[0m             \u001b[38;5;66;03m# If the new tensor has compatible tensor type as the existing tensor,\u001b[39;00m\n\u001b[1;32m    646\u001b[0m             \u001b[38;5;66;03m# the current behavior is to change the tensor in-place using `.data =`,\u001b[39;00m\n\u001b[0;32m   (...)\u001b[0m\n\u001b[1;32m    651\u001b[0m             \u001b[38;5;66;03m# global flag to let the user control whether they want the future\u001b[39;00m\n\u001b[1;32m    652\u001b[0m             \u001b[38;5;66;03m# behavior of overwriting the existing tensor or not.\u001b[39;00m\n",
      "File \u001b[0;32m/opt/saturncloud/envs/saturn/lib/python3.9/site-packages/torch/nn/modules/module.py:641\u001b[0m, in \u001b[0;36mModule._apply\u001b[0;34m(self, fn)\u001b[0m\n\u001b[1;32m    639\u001b[0m \u001b[38;5;28;01mdef\u001b[39;00m \u001b[38;5;21m_apply\u001b[39m(\u001b[38;5;28mself\u001b[39m, fn):\n\u001b[1;32m    640\u001b[0m     \u001b[38;5;28;01mfor\u001b[39;00m module \u001b[38;5;129;01min\u001b[39;00m \u001b[38;5;28mself\u001b[39m\u001b[38;5;241m.\u001b[39mchildren():\n\u001b[0;32m--> 641\u001b[0m         \u001b[43mmodule\u001b[49m\u001b[38;5;241;43m.\u001b[39;49m\u001b[43m_apply\u001b[49m\u001b[43m(\u001b[49m\u001b[43mfn\u001b[49m\u001b[43m)\u001b[49m\n\u001b[1;32m    643\u001b[0m     \u001b[38;5;28;01mdef\u001b[39;00m \u001b[38;5;21mcompute_should_use_set_data\u001b[39m(tensor, tensor_applied):\n\u001b[1;32m    644\u001b[0m         \u001b[38;5;28;01mif\u001b[39;00m torch\u001b[38;5;241m.\u001b[39m_has_compatible_shallow_copy_type(tensor, tensor_applied):\n\u001b[1;32m    645\u001b[0m             \u001b[38;5;66;03m# If the new tensor has compatible tensor type as the existing tensor,\u001b[39;00m\n\u001b[1;32m    646\u001b[0m             \u001b[38;5;66;03m# the current behavior is to change the tensor in-place using `.data =`,\u001b[39;00m\n\u001b[0;32m   (...)\u001b[0m\n\u001b[1;32m    651\u001b[0m             \u001b[38;5;66;03m# global flag to let the user control whether they want the future\u001b[39;00m\n\u001b[1;32m    652\u001b[0m             \u001b[38;5;66;03m# behavior of overwriting the existing tensor or not.\u001b[39;00m\n",
      "File \u001b[0;32m/opt/saturncloud/envs/saturn/lib/python3.9/site-packages/torch/nn/modules/module.py:664\u001b[0m, in \u001b[0;36mModule._apply\u001b[0;34m(self, fn)\u001b[0m\n\u001b[1;32m    660\u001b[0m \u001b[38;5;66;03m# Tensors stored in modules are graph leaves, and we don't want to\u001b[39;00m\n\u001b[1;32m    661\u001b[0m \u001b[38;5;66;03m# track autograd history of `param_applied`, so we have to use\u001b[39;00m\n\u001b[1;32m    662\u001b[0m \u001b[38;5;66;03m# `with torch.no_grad():`\u001b[39;00m\n\u001b[1;32m    663\u001b[0m \u001b[38;5;28;01mwith\u001b[39;00m torch\u001b[38;5;241m.\u001b[39mno_grad():\n\u001b[0;32m--> 664\u001b[0m     param_applied \u001b[38;5;241m=\u001b[39m \u001b[43mfn\u001b[49m\u001b[43m(\u001b[49m\u001b[43mparam\u001b[49m\u001b[43m)\u001b[49m\n\u001b[1;32m    665\u001b[0m should_use_set_data \u001b[38;5;241m=\u001b[39m compute_should_use_set_data(param, param_applied)\n\u001b[1;32m    666\u001b[0m \u001b[38;5;28;01mif\u001b[39;00m should_use_set_data:\n",
      "File \u001b[0;32m/opt/saturncloud/envs/saturn/lib/python3.9/site-packages/torch/nn/modules/module.py:987\u001b[0m, in \u001b[0;36mModule.to.<locals>.convert\u001b[0;34m(t)\u001b[0m\n\u001b[1;32m    984\u001b[0m \u001b[38;5;28;01mif\u001b[39;00m convert_to_format \u001b[38;5;129;01mis\u001b[39;00m \u001b[38;5;129;01mnot\u001b[39;00m \u001b[38;5;28;01mNone\u001b[39;00m \u001b[38;5;129;01mand\u001b[39;00m t\u001b[38;5;241m.\u001b[39mdim() \u001b[38;5;129;01min\u001b[39;00m (\u001b[38;5;241m4\u001b[39m, \u001b[38;5;241m5\u001b[39m):\n\u001b[1;32m    985\u001b[0m     \u001b[38;5;28;01mreturn\u001b[39;00m t\u001b[38;5;241m.\u001b[39mto(device, dtype \u001b[38;5;28;01mif\u001b[39;00m t\u001b[38;5;241m.\u001b[39mis_floating_point() \u001b[38;5;129;01mor\u001b[39;00m t\u001b[38;5;241m.\u001b[39mis_complex() \u001b[38;5;28;01melse\u001b[39;00m \u001b[38;5;28;01mNone\u001b[39;00m,\n\u001b[1;32m    986\u001b[0m                 non_blocking, memory_format\u001b[38;5;241m=\u001b[39mconvert_to_format)\n\u001b[0;32m--> 987\u001b[0m \u001b[38;5;28;01mreturn\u001b[39;00m \u001b[43mt\u001b[49m\u001b[38;5;241;43m.\u001b[39;49m\u001b[43mto\u001b[49m\u001b[43m(\u001b[49m\u001b[43mdevice\u001b[49m\u001b[43m,\u001b[49m\u001b[43m \u001b[49m\u001b[43mdtype\u001b[49m\u001b[43m \u001b[49m\u001b[38;5;28;43;01mif\u001b[39;49;00m\u001b[43m \u001b[49m\u001b[43mt\u001b[49m\u001b[38;5;241;43m.\u001b[39;49m\u001b[43mis_floating_point\u001b[49m\u001b[43m(\u001b[49m\u001b[43m)\u001b[49m\u001b[43m \u001b[49m\u001b[38;5;129;43;01mor\u001b[39;49;00m\u001b[43m \u001b[49m\u001b[43mt\u001b[49m\u001b[38;5;241;43m.\u001b[39;49m\u001b[43mis_complex\u001b[49m\u001b[43m(\u001b[49m\u001b[43m)\u001b[49m\u001b[43m \u001b[49m\u001b[38;5;28;43;01melse\u001b[39;49;00m\u001b[43m \u001b[49m\u001b[38;5;28;43;01mNone\u001b[39;49;00m\u001b[43m,\u001b[49m\u001b[43m \u001b[49m\u001b[43mnon_blocking\u001b[49m\u001b[43m)\u001b[49m\n",
      "\u001b[0;31mKeyboardInterrupt\u001b[0m: "
     ]
    }
   ],
   "source": [
    "#train BRATS\n",
    "results = model.train(\n",
    "\n",
    "   # il y a d'autres parametres possible => cf. site ultralytics yolov8\n",
    "   data=yaml,\n",
    "   task=tache,\n",
    "   imgsz=128,\n",
    "   epochs=50,\n",
    "   batch=10,\n",
    "   name='MICCAI_Seg', # nom du répertoire de sortie\n",
    "   workers = 2,\n",
    "   augment= False,\n",
    ")"
   ]
  },
  {
   "cell_type": "markdown",
   "metadata": {},
   "source": [
    "En sortie, yolov8 crée un nouveau répertoire dans code/runs/segment (pour segmentation) ou code/runs/detect (pour bounding box). Dans ce répertoire on retrouve le model entrainé (./weights : best.pt pour le model avec le meilleurs dice et last.pt le dernier model généré), un .csv recapitulant les stats tout au long des epochs, des graphs et des resultats de prédiction (seg ou bbox)"
   ]
  },
  {
   "cell_type": "markdown",
   "metadata": {},
   "source": [
    "_______________________________________________________________________________________________________________________________________________________________\n"
   ]
  },
  {
   "cell_type": "markdown",
   "metadata": {},
   "source": [
    "4) __Implémentation de YOLOv8 : prediction__\n",
    "\n",
    "__ATTENTION__ : pas testé, mais doit marcher"
   ]
  },
  {
   "cell_type": "code",
   "execution_count": 12,
   "metadata": {
    "execution": {
     "iopub.execute_input": "2023-06-23T13:47:38.949920Z",
     "iopub.status.busy": "2023-06-23T13:47:38.949482Z",
     "iopub.status.idle": "2023-06-23T13:47:40.271372Z",
     "shell.execute_reply": "2023-06-23T13:47:40.270672Z",
     "shell.execute_reply.started": "2023-06-23T13:47:38.949891Z"
    },
    "tags": []
   },
   "outputs": [
    {
     "name": "stderr",
     "output_type": "stream",
     "text": [
      "WARNING: Skipping nvidia_cublas_cu11 as it is not installed.\n",
      "\n",
      "                   from  n    params  module                                       arguments                     \n",
      "  0                  -1  1      1856  ultralytics.nn.modules.Conv                  [3, 64, 3, 2]                 \n",
      "  1                  -1  1     73984  ultralytics.nn.modules.Conv                  [64, 128, 3, 2]               \n",
      "  2                  -1  3    279808  ultralytics.nn.modules.C2f                   [128, 128, 3, True]           \n",
      "  3                  -1  1    295424  ultralytics.nn.modules.Conv                  [128, 256, 3, 2]              \n",
      "  4                  -1  6   2101248  ultralytics.nn.modules.C2f                   [256, 256, 6, True]           \n",
      "  5                  -1  1   1180672  ultralytics.nn.modules.Conv                  [256, 512, 3, 2]              \n",
      "  6                  -1  6   8396800  ultralytics.nn.modules.C2f                   [512, 512, 6, True]           \n",
      "  7                  -1  1   2360320  ultralytics.nn.modules.Conv                  [512, 512, 3, 2]              \n",
      "  8                  -1  3   4461568  ultralytics.nn.modules.C2f                   [512, 512, 3, True]           \n",
      "  9                  -1  1    656896  ultralytics.nn.modules.SPPF                  [512, 512, 5]                 \n",
      " 10                  -1  1         0  torch.nn.modules.upsampling.Upsample         [None, 2, 'nearest']          \n",
      " 11             [-1, 6]  1         0  ultralytics.nn.modules.Concat                [1]                           \n",
      " 12                  -1  3   4723712  ultralytics.nn.modules.C2f                   [1024, 512, 3]                \n",
      " 13                  -1  1         0  torch.nn.modules.upsampling.Upsample         [None, 2, 'nearest']          \n",
      " 14             [-1, 4]  1         0  ultralytics.nn.modules.Concat                [1]                           \n",
      " 15                  -1  3   1247744  ultralytics.nn.modules.C2f                   [768, 256, 3]                 \n",
      " 16                  -1  1    590336  ultralytics.nn.modules.Conv                  [256, 256, 3, 2]              \n",
      " 17            [-1, 12]  1         0  ultralytics.nn.modules.Concat                [1]                           \n",
      " 18                  -1  3   4592640  ultralytics.nn.modules.C2f                   [768, 512, 3]                 \n",
      " 19                  -1  1   2360320  ultralytics.nn.modules.Conv                  [512, 512, 3, 2]              \n",
      " 20             [-1, 9]  1         0  ultralytics.nn.modules.Concat                [1]                           \n",
      " 21                  -1  3   4723712  ultralytics.nn.modules.C2f                   [1024, 512, 3]                \n",
      " 22        [15, 18, 21]  1   7950688  ultralytics.nn.modules.Segment               [80, 32, 256, [256, 512, 512]]\n",
      "YOLOv8l-seg summary: 401 layers, 45997728 parameters, 45997712 gradients, 221.1 GFLOPs\n",
      "\n"
     ]
    }
   ],
   "source": [
    "from ultralytics import YOLO \n",
    "import os\n",
    "import sys\n",
    "os.system(\"pip uninstall -y nvidia_cublas_cu11\")\n",
    "\n",
    "from matplotlib import pyplot as plt\n",
    "import cv2\n",
    "sep = os.path.sep\n",
    "\n",
    "#model = YOLO(\"/home/jovyan/workspace/NEW_MICCAI_With_YOLOv8/code/runs/segment/MICCAI_Seg/weights/best.pt\")\n",
    "model = YOLO('yolov8l-seg.yaml') # yolov8l-seg.yaml pour partir d'un modéle vierge, sinon indiquer le chemin vers model(.pt) pré-entrainé"
   ]
  },
  {
   "cell_type": "code",
   "execution_count": 13,
   "metadata": {
    "execution": {
     "iopub.execute_input": "2023-06-23T13:47:42.144767Z",
     "iopub.status.busy": "2023-06-23T13:47:42.143827Z",
     "iopub.status.idle": "2023-06-23T13:47:42.338482Z",
     "shell.execute_reply": "2023-06-23T13:47:42.337559Z",
     "shell.execute_reply.started": "2023-06-23T13:47:42.144725Z"
    },
    "tags": []
   },
   "outputs": [
    {
     "data": {
      "text/plain": [
       "<matplotlib.image.AxesImage at 0x7f7e549730a0>"
      ]
     },
     "execution_count": 13,
     "metadata": {},
     "output_type": "execute_result"
    },
    {
     "data": {
      "image/png": "[encoded data removed]",
      "text/plain": [
       "<Figure size 640x480 with 1 Axes>"
      ]
     },
     "metadata": {},
     "output_type": "display_data"
    }
   ],
   "source": [
    "im=cv2.imread(f'..{sep}datasets{sep}refined{sep}test{sep}images{sep}MICCAI_Patient_0_e264.png')\n",
    "plt.imshow(im)"
   ]
  },
  {
   "cell_type": "code",
   "execution_count": 14,
   "metadata": {
    "execution": {
     "iopub.execute_input": "2023-06-23T13:47:44.439440Z",
     "iopub.status.busy": "2023-06-23T13:47:44.438983Z",
     "iopub.status.idle": "2023-06-23T13:47:45.293873Z",
     "shell.execute_reply": "2023-06-23T13:47:45.292937Z",
     "shell.execute_reply.started": "2023-06-23T13:47:44.439414Z"
    },
    "tags": []
   },
   "outputs": [
    {
     "name": "stderr",
     "output_type": "stream",
     "text": [
      "Ultralytics YOLOv8.0.11 🚀 Python-3.9.13 torch-1.13.1+cu117 CUDA:0 (Tesla T4, 15110MiB)\n",
      "Fusing... \n",
      "YOLOv8l-seg summary: 295 layers, 45973568 parameters, 342800 gradients, 220.5 GFLOPs\n",
      "Results saved to \u001b[1mruns/detect/predict2\u001b[0m\n",
      "0 labels saved to runs/detect/predict2/labels\n"
     ]
    }
   ],
   "source": [
    "#predict MICCAI\n",
    "results = model.predict(source = f'..{sep}datasets{sep}refined{sep}train{sep}images',\n",
    "                         save=True,\n",
    "                         show=False,\n",
    "                         imgsz=128,\n",
    "                         conf=0.2,\n",
    "                         save_txt = True)\n",
    "#res = model(f'..{sep}datasets{sep}refined{sep}train{sep}images')\n",
    "#plt.imshow(results)"
   ]
  },
  {
   "cell_type": "code",
   "execution_count": null,
   "metadata": {},
   "outputs": [],
   "source": []
  }
 ],
 "metadata": {
  "kernelspec": {
   "display_name": "saturn (Python 3)",
   "language": "python",
   "name": "python3"
  },
  "language_info": {
   "codemirror_mode": {
    "name": "ipython",
    "version": 3
   },
   "file_extension": ".py",
   "mimetype": "text/x-python",
   "name": "python",
   "nbconvert_exporter": "python",
   "pygments_lexer": "ipython3",
   "version": "3.9.13"
  }
 },
 "nbformat": 4,
 "nbformat_minor": 4
}
