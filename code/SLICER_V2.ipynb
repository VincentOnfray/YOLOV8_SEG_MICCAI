{
 "cells": [
  {
   "cell_type": "code",
   "execution_count": 1,
   "metadata": {
    "execution": {
     "iopub.execute_input": "2023-06-27T14:20:12.395528Z",
     "iopub.status.busy": "2023-06-27T14:20:12.395199Z",
     "iopub.status.idle": "2023-06-27T14:20:12.556227Z",
     "shell.execute_reply": "2023-06-27T14:20:12.555560Z",
     "shell.execute_reply.started": "2023-06-27T14:20:12.395471Z"
    }
   },
   "outputs": [],
   "source": [
    "import SimpleITK as sitk\n",
    "import sys\n",
    "import os\n",
    "import random\n",
    "isWindows = sys.platform.__contains__(\"win\")\n",
    "sep = os.path.sep #path separator"
   ]
  },
  {
   "cell_type": "code",
   "execution_count": 2,
   "metadata": {
    "execution": {
     "iopub.execute_input": "2023-06-27T14:20:12.558415Z",
     "iopub.status.busy": "2023-06-27T14:20:12.557953Z",
     "iopub.status.idle": "2023-06-27T14:20:12.566902Z",
     "shell.execute_reply": "2023-06-27T14:20:12.566180Z",
     "shell.execute_reply.started": "2023-06-27T14:20:12.558381Z"
    }
   },
   "outputs": [],
   "source": [
    "def loaddingList(relativeFolderPath,phase= None,absolute_path=''): \n",
    "    ''' \n",
    "    args : path to check, phase ('init' => check in the directory, else => check in ./images and ./labels of the directory)\n",
    "    exit : dictionary{\"flair\":[list of flair path in dir],\"seg\":[list of labels path in dir]} p\n",
    "    '''\n",
    "    if(len(absolute_path)==0):\n",
    "        absolute_path = os.path.dirname(__file__)\n",
    "\n",
    "    dir_abs_path = os.path.join(absolute_path, relativeFolderPath)\n",
    "    flair=[]\n",
    "    seg=[]\n",
    "    dic = {\"flair\":[],\"seg\":[]}\n",
    "\n",
    "    if phase == 'init':\n",
    "        pathList = os.listdir(dir_abs_path)\n",
    "        for path in pathList:\n",
    "            #print(path)\n",
    "            if (path!=('train'))&(path!=('val'))&(path!=('test')):\n",
    "                if(\"FLAIR\" in path):\n",
    "                    #print((((path.rsplit('_', 1))[1]).rsplit('.',2))[0])\n",
    "                    flair.append(dir_abs_path+sep+path)\n",
    "                else :\n",
    "                    seg.append(dir_abs_path+sep+path)\n",
    "\n",
    "        print(f\"Flair/segments:  {str(len(flair))}/{str(len(seg))}\" )\n",
    "        if len(flair) !=len(seg):\n",
    "            #print(len(flair))\n",
    "            #print(len(seg))\n",
    "            print (\"ERROR: not the same amout of segments and flaires\")\n",
    "            exit(1)\n",
    "    \n",
    "    else : \n",
    "        pathList = os.listdir(f\"{dir_abs_path}{sep}images\")+os.listdir(f\"{dir_abs_path}{sep}labels\")\n",
    "\n",
    "        for path in pathList:\n",
    "                if(\"FLAIR\" in path):\n",
    "                    flair.append(f\"{dir_abs_path}{sep}images{sep}{path}\")\n",
    "                else :\n",
    "                    seg.append(f\"{dir_abs_path}{sep}labels{sep}{path}\")\n",
    "\n",
    "    flair.sort()\n",
    "    seg.sort()\n",
    "    \n",
    "    print(\"flair: \"+str(len(flair)))\n",
    "    print(\"seg: \"+str(len(seg)))\n",
    "    dic['flair']=flair\n",
    "    dic['seg']=seg\n",
    "\n",
    "    return dic"
   ]
  },
  {
   "cell_type": "code",
   "execution_count": 3,
   "metadata": {
    "execution": {
     "iopub.execute_input": "2023-06-27T14:20:12.568452Z",
     "iopub.status.busy": "2023-06-27T14:20:12.568077Z",
     "iopub.status.idle": "2023-06-27T14:20:12.576224Z",
     "shell.execute_reply": "2023-06-27T14:20:12.575647Z",
     "shell.execute_reply.started": "2023-06-27T14:20:12.568421Z"
    }
   },
   "outputs": [],
   "source": [
    "def repartitor(dic,relative_path):\n",
    "\n",
    "    print('IsWindows: '+str(isWindows))\n",
    "    \n",
    "    ''' \n",
    "    args : dictionary{\"flair\":[list of flair path in dir],\"seg\":[list of labels path in dir]}, dir path contening 'test', 'val', 'train'\n",
    "    exit : none\n",
    "    aim : split and move dataset into train, test and val\n",
    "    '''\n",
    "    print(\"Repartition de \"+str(len(dic['flair']))+\" images\")\n",
    "    taille = len(dic['flair'])\n",
    "\n",
    "    if taille!=0 :\n",
    "        database = ['test','train','val']\n",
    "        repartition = [0,int(taille*0.2),int(taille*0.2)+int(taille*0.8*0.8),taille]\n",
    "\n",
    "        for i in range(len(repartition)-1):\n",
    "            for j in range(repartition[i],repartition[i+1]):\n",
    "\n",
    "                #Move flair file\n",
    "                old_file = dic['flair'][j]\n",
    "                old_file_name = str(old_file).split(sep)[-1]\n",
    "                destination = f\"{relative_path}{sep}{database[i]}{sep}images{sep}{old_file_name}\"\n",
    "                os.rename(old_file, destination)\n",
    "\n",
    "                #Move seg file\n",
    "                old_file = dic['seg'][j]\n",
    "                old_file_name = str(old_file).split(sep)[-1]\n",
    "                destination = f\"{relative_path}{sep}{database[i]}{sep}labels{sep}{old_file_name}\"\n",
    "                os.rename(old_file, destination)\n",
    "\n",
    "                '''\n",
    "                if isWindows == False:\n",
    "                    os.system('mv '+dic['flair'][j]+' '+relative_path+'/'+database[i]+'/images')\n",
    "                    os.system('mv '+dic['seg'][j]+' '+relative_path+'/'+database[i]+'/labels')\n",
    "                else:\n",
    "\n",
    "                    #print('move '+str.replace(dic['flair'][j],\"/\",\"\\\\\\\\\")+' '+windows_Relative_Path+'\\\\\\\\'+database[i]+'\\\\images')\n",
    "                    os.system('move '+str.replace(dic['flair'][j],\"/\",\"\\\\\\\\\")+' '+windows_Relative_Path+\"\\\\\\\\\"+database[i]+'\\\\images')\n",
    "                    os.system(\"move \"+str.replace(dic['seg'][j],\"/\",\"\\\\\\\\\")+' '+windows_Relative_Path+\"\\\\\\\\\"+database[i]+'\\\\labels')\n",
    "'''"
   ]
  },
  {
   "cell_type": "code",
   "execution_count": 4,
   "metadata": {
    "execution": {
     "iopub.execute_input": "2023-06-27T14:20:12.577238Z",
     "iopub.status.busy": "2023-06-27T14:20:12.576935Z",
     "iopub.status.idle": "2023-06-27T14:20:12.582558Z",
     "shell.execute_reply": "2023-06-27T14:20:12.582027Z",
     "shell.execute_reply.started": "2023-06-27T14:20:12.577218Z"
    }
   },
   "outputs": [],
   "source": [
    "def reachSeuil(seuil,img,peak):\n",
    "    ''' \n",
    "    args : seuil(int btwin 0 and 100), img(sitk.image), peak(int)\n",
    "    exit : bool\n",
    "    aim : says if (labeled pixels/pixels) >= seuil\n",
    "    '''\n",
    "    sumFilter = sitk.StatisticsImageFilter()\n",
    "    x_slice = img.GetWidth()\n",
    "    y_slice = img.GetHeight()\n",
    "    nbPixels = int(x_slice*y_slice)\n",
    "    sumFilter.Execute(img[:,:,peak])\n",
    "    sge = sumFilter.GetSum()\n",
    "    if (sge*100/nbPixels)>= seuil:\n",
    "        return True\n",
    "    return False"
   ]
  },
  {
   "cell_type": "code",
   "execution_count": 5,
   "metadata": {
    "execution": {
     "iopub.execute_input": "2023-06-27T14:20:12.583579Z",
     "iopub.status.busy": "2023-06-27T14:20:12.583328Z",
     "iopub.status.idle": "2023-06-27T14:20:12.589301Z",
     "shell.execute_reply": "2023-06-27T14:20:12.588698Z",
     "shell.execute_reply.started": "2023-06-27T14:20:12.583560Z"
    }
   },
   "outputs": [],
   "source": [
    "def seuilMax(img, nb_of_slice):\n",
    "    ''' \n",
    "    args : nb_of_slice(int), img(sitk.image)\n",
    "    exit : float\n",
    "    aim : return the max seuil askable to have nb_of_slice minimum extract from the image\n",
    "    '''\n",
    "\n",
    "    sumFilter = sitk.StatisticsImageFilter()\n",
    "    x_slice = img.GetWidth()\n",
    "    y_slice = img.GetHeight()\n",
    "    z_slice = img.GetDepth()\n",
    "    nbPixels = int(x_slice*y_slice)\n",
    "    data=[]\n",
    "    max = -1\n",
    "    if nb_of_slice>z_slice:\n",
    "        print(\"ERROR: nb of silce > depth\")\n",
    "        exit(1)\n",
    "    for z in range(z_slice):    # for all slices\n",
    "        sumFilter.Execute(img[:,:,z])\n",
    "        sge = sumFilter.GetSum()   # calculate the number of segmented pixels\n",
    "        sgeProp = sge*100/nbPixels\n",
    "        data.append(sgeProp)  # push the % ratio of slice (ie the number of segmented pixel of the current slice)\n",
    "    data.sort(reverse=True)   # sort in descending order the ratio of all slices\n",
    "    max= data[int(seuil)]     # get the ratio that warrants to have at max \"seuil\" images\n",
    "    return max"
   ]
  },
  {
   "cell_type": "code",
   "execution_count": 6,
   "metadata": {
    "execution": {
     "iopub.execute_input": "2023-06-27T14:20:12.591028Z",
     "iopub.status.busy": "2023-06-27T14:20:12.590761Z",
     "iopub.status.idle": "2023-06-27T14:20:12.595107Z",
     "shell.execute_reply": "2023-06-27T14:20:12.594445Z",
     "shell.execute_reply.started": "2023-06-27T14:20:12.591009Z"
    }
   },
   "outputs": [],
   "source": [
    "def emptyFolder(dirPath):\n",
    "    for filename in os.listdir(dirPath):\n",
    "        file_path = os.path.join(dirPath, filename)\n",
    "        try:\n",
    "            if os.path.isfile(file_path) or os.path.islink(file_path):\n",
    "                os.unlink(file_path)\n",
    "           \n",
    "        except Exception as e:\n",
    "            print('Failed to delete %s. Reason: %s' % (file_path, e))\n",
    "    "
   ]
  },
  {
   "cell_type": "code",
   "execution_count": 7,
   "metadata": {
    "execution": {
     "iopub.execute_input": "2023-06-27T14:20:12.596703Z",
     "iopub.status.busy": "2023-06-27T14:20:12.596303Z",
     "iopub.status.idle": "2023-06-27T14:20:12.612481Z",
     "shell.execute_reply": "2023-06-27T14:20:12.611752Z",
     "shell.execute_reply.started": "2023-06-27T14:20:12.596672Z"
    }
   },
   "outputs": [],
   "source": [
    "def slicer_main(relativeFolderPath, seuil, testSeuil=False, forceAbsPath=''):\n",
    "    path_img_dic=loaddingList(relativeFolderPath,'init',forceAbsPath)\n",
    "    repartitor(path_img_dic,relativeFolderPath)\n",
    "\n",
    "    testResult=[]\n",
    "    database = ['test','val','train']\n",
    "\n",
    "    for folder in database:\n",
    "        \n",
    "        path_img_dic = loaddingList(f\"{relativeFolderPath}{sep}{folder}\",None,forceAbsPath)\n",
    "        print('Folder: '+folder)\n",
    "        #os.system(\"rm -r \"+relativeFolderPath[: -4]+'/refined/'+folder+'/images/*')\n",
    "        #os.system(\"rm -r \"+relativeFolderPath[: -4]+'/refined/'+folder+'/labels/*')\n",
    "\n",
    "        emptyFolder(f\"{relativeFolderPath[: -4]}{sep}refined{sep}{folder}{sep}images{sep}\")\n",
    "        emptyFolder(f\"{relativeFolderPath[: -4]}{sep}refined{sep}{folder}{sep}labels{sep}\")\n",
    "        #print(len(path_img_dic['flair']))\n",
    "\n",
    "\n",
    "        for i in range(int(len(path_img_dic['flair']))):\n",
    "            path = path_img_dic['seg'][i]\n",
    "            pathFlair = path_img_dic['flair'][i]\n",
    "            print(\"pathFlair\", pathFlair)\n",
    "            print(\"path\", path)\n",
    "            imgSeg = sitk.ReadImage(path)\n",
    "            \n",
    "            if testSeuil == True:\n",
    "                    \n",
    "                    maxSeg = seuilMax(imgSeg,seuil)\n",
    "                   \n",
    "                    testResult.append(maxSeg)\n",
    "                    #print(\"seg \"+ str(i)+\" : seuil max =\"+str(maxSeg)+\" pour \"+str(seuil)+\" img/seg\")\n",
    "            else:\n",
    "                castFilter = sitk.CastImageFilter()\n",
    "                imgFlair = sitk.ReadImage(pathFlair)\n",
    "                z_slice=imgSeg.GetDepth()\n",
    "                nbOfSlice = 0\n",
    "                size = list(imgSeg.GetSize())\n",
    "                if len(size)==3:\n",
    "                    size[2]=0\n",
    "                Extractor = sitk.ExtractImageFilter()  \n",
    "                peaklog = [i for i in range(z_slice)]\n",
    "\n",
    "                while(nbOfSlice<int(testSeuil)) & (peaklog!=[]):\n",
    "                    peak = random.randint(0,len(peaklog)-1)\n",
    "\n",
    "                    if (reachSeuil(seuil, imgSeg, peaklog[peak])):\n",
    "                        nbSlice=peaklog[peak]\n",
    "                        strSegList=path.split(sep)\n",
    "                        newSegPath=\"\"\n",
    "                        strFlairList=pathFlair.split(sep)\n",
    "                        newFlairPath=\"\"\n",
    "                        \n",
    "\n",
    "                        for j in range(len(strSegList)):\n",
    "                           #print(f\"iteration_{j}\")\n",
    "                            nPatient= \"Patient_\"+str(i)\n",
    "                            \n",
    "                            if strSegList[j] == 'raw':\n",
    "                                newSegPath = str(f\"{newSegPath}{sep}refined{sep}{folder}{sep}labels{sep}MICCAI_{nPatient}_e{str(nbSlice)}.png\")\n",
    "                                break\n",
    "                            else:\n",
    "                                newSegPath = f\"..{sep}{str(strSegList[j])}\"\n",
    "\n",
    "                                                  \n",
    "                        \n",
    "\n",
    "                        for j in range(len(strFlairList)):\n",
    "                            if strFlairList[j] == 'raw':\n",
    "                                nPatient= \"Patient_\"+str(i)\n",
    "                                \n",
    "                                newFlairPath = str(f\"{newFlairPath}{sep}refined{sep}{folder}{sep}images{sep}MICCAI_{nPatient}_e{str(nbSlice)}.png\")\n",
    "                               \n",
    "                                break\n",
    "                            else:\n",
    "                                \n",
    "                                newFlairPath = f\"..{sep}{str(strFlairList[j])}\"\n",
    "                        \n",
    "                        index = [0, 0, nbSlice]\n",
    "                        Extractor.SetSize(size)\n",
    "                        Extractor.SetIndex(index)\n",
    "\n",
    "                        #print(\"newSegPath: \"+newSegPath)\n",
    "                        #print(\"newFlairPath: \"+newFlairPath)\n",
    "\n",
    "                        castFilter.SetOutputPixelType(sitk.sitkUInt8)\n",
    "                        imgFlair = sitk.RescaleIntensity(imgFlair,0,255)\n",
    "                        imgFlairSmooth = castFilter.Execute(imgFlair)\n",
    "\n",
    "                        castFilter.SetOutputPixelType(sitk.sitkUInt8)\n",
    "                        imgSegSmooth = castFilter.Execute(imgSeg)\n",
    "\n",
    "                        v1 = Extractor.Execute(imgSegSmooth)\n",
    "                        str1 =str(newSegPath)\n",
    "                        #print(str1)\n",
    "                        #print(\"v1.GetSize() : \", v1.GetSize())\n",
    "                        #print(\"v1.GetPixelIDTypeAsString() : \", v1.GetPixelIDTypeAsString())\n",
    "                        sitk.WriteImage(v1, str1)\n",
    "                        \n",
    "\n",
    "                        v2 = Extractor.Execute(imgFlairSmooth)\n",
    "                        str2 = str(newFlairPath)\n",
    "                        sitk.WriteImage(v2, str2)\n",
    "\n",
    "                        nbOfSlice = nbOfSlice +1\n",
    "                        \n",
    "\n",
    "                        del(peaklog[peak])\n",
    "\n",
    "                    else:\n",
    "                        del(peaklog[peak])\n",
    "        \n",
    "        if testSeuil == True:\n",
    "            testResult.sort()\n",
    "            if len(testResult)>0:\n",
    "                print(\"seuil max de \"+folder+\" pour \"+str(seuil)+\" img/seg = \"+str(testResult[0])+\"%\")\n",
    "\n",
    "    print(\"[DONE]\")"
   ]
  },
  {
   "cell_type": "code",
   "execution_count": 8,
   "metadata": {
    "execution": {
     "iopub.execute_input": "2023-06-27T14:20:12.613902Z",
     "iopub.status.busy": "2023-06-27T14:20:12.613590Z",
     "iopub.status.idle": "2023-06-27T14:20:12.622781Z",
     "shell.execute_reply": "2023-06-27T14:20:12.622184Z",
     "shell.execute_reply.started": "2023-06-27T14:20:12.613879Z"
    }
   },
   "outputs": [
    {
     "data": {
      "text/plain": [
       "'if __name__ == \"__main__\":\\n    relative_path = sys.argv[1] \\n    seuil = float(sys.argv[2])\\n    test = sys.argv[3]\\n\\n    #__ATTENTION__: il faut que les fichiers compressés d\\'origines soit dans le dossier contenant les répertoires \\'test\\', \\'val\\' et \\'train\\' raw\\n    #__ATTENTION__:les répertoires \\'test\\', \\'val\\' et \\'train\\' doivent contenir un fichier \\'images\\' et \\'labels\\'\\n\\n    #_Rq_: le script répartit directement les fichiers .nii entre train(80 * 80%), val(20 * 20%) et test(20%) du fichier raw \\n\\n    #executer le script dans le cli comme suit pour tester dataset: python3 slicer.py chemin_vers_repertoire_contenant_les_\".nii\" nb_clichés_par_patient True\\n\\n    if sys.argv[3] == \"True\":\\n        print(\"#_____________TEST_____________#\")\\n        slicer_main(relative_path, seuil,testSeuil=True)\\n\\n    #executer le script dans le cli comme suit pour former dataset: python3 slicer.py chemin_vers_repertoire_contenant_fichier_\\'test\\',\\'val\\'_et_\\'train\\'_(raw) seuil_tumeur/nb_pixel(entre 1 et 100) nb_clichés_par_patient_MAX\\n    else:\\n        print(\\'#_____________SELECTION_____________#\\')\\n        slicer_main(relative_path, seuil, test)'"
      ]
     },
     "execution_count": 8,
     "metadata": {},
     "output_type": "execute_result"
    }
   ],
   "source": [
    "'''if __name__ == \"__main__\":\n",
    "    relative_path = sys.argv[1] \n",
    "    seuil = float(sys.argv[2])\n",
    "    test = sys.argv[3]\n",
    "\n",
    "    #__ATTENTION__: il faut que les fichiers compressés d'origines soit dans le dossier contenant les répertoires 'test', 'val' et 'train' raw\n",
    "    #__ATTENTION__:les répertoires 'test', 'val' et 'train' doivent contenir un fichier 'images' et 'labels'\n",
    "\n",
    "    #_Rq_: le script répartit directement les fichiers .nii entre train(80 * 80%), val(20 * 20%) et test(20%) du fichier raw \n",
    "\n",
    "    #executer le script dans le cli comme suit pour tester dataset: python3 slicer.py chemin_vers_repertoire_contenant_les_\".nii\" nb_clichés_par_patient True\n",
    "\n",
    "    if sys.argv[3] == \"True\":\n",
    "        print(\"#_____________TEST_____________#\")\n",
    "        slicer_main(relative_path, seuil,testSeuil=True)\n",
    "\n",
    "    #executer le script dans le cli comme suit pour former dataset: python3 slicer.py chemin_vers_repertoire_contenant_fichier_'test','val'_et_'train'_(raw) seuil_tumeur/nb_pixel(entre 1 et 100) nb_clichés_par_patient_MAX\n",
    "    else:\n",
    "        print('#_____________SELECTION_____________#')\n",
    "        slicer_main(relative_path, seuil, test)'''\n",
    "\n"
   ]
  },
  {
   "cell_type": "code",
   "execution_count": 9,
   "metadata": {
    "execution": {
     "iopub.execute_input": "2023-06-27T14:20:12.623907Z",
     "iopub.status.busy": "2023-06-27T14:20:12.623549Z",
     "iopub.status.idle": "2023-06-27T14:20:12.628037Z",
     "shell.execute_reply": "2023-06-27T14:20:12.627361Z",
     "shell.execute_reply.started": "2023-06-27T14:20:12.623888Z"
    },
    "tags": []
   },
   "outputs": [],
   "source": [
    "path_vers_datasets_raw = f'..{sep}datasets{sep}raw' #chemin relatif vers le répertoire dataset/raw\n",
    "seuil = 0 #seuil disciminant pour la sélection des coupes (int entre 1 et 100 => rapport nb pixels segementés/nb pixels)\n",
    "nb_coupe_par_scan = 50 #nb de coupes max extraites par fichier .nii.gz\n",
    "#print(os.path.isdir(\"../datasets/raw/test\")) "
   ]
  },
  {
   "cell_type": "code",
   "execution_count": 10,
   "metadata": {
    "execution": {
     "iopub.execute_input": "2023-06-27T14:20:12.629417Z",
     "iopub.status.busy": "2023-06-27T14:20:12.629081Z",
     "iopub.status.idle": "2023-06-27T14:22:09.711073Z",
     "shell.execute_reply": "2023-06-27T14:22:09.710231Z",
     "shell.execute_reply.started": "2023-06-27T14:20:12.629387Z"
    },
    "tags": []
   },
   "outputs": [
    {
     "name": "stdout",
     "output_type": "stream",
     "text": [
      "#_____________SELECTION_____________#\n",
      "Flair/segments:  0/0\n",
      "flair: 0\n",
      "seg: 0\n",
      "IsWindows: False\n",
      "Repartition de 0 images\n",
      "flair: 3\n",
      "seg: 3\n",
      "Folder: test\n",
      "pathFlair /home/jovyan/workspace/NEW_MICCAI_With_YOLOv8/code/../datasets/raw/test/images/01016SACH_3DFLAIR.nii.gz\n",
      "path /home/jovyan/workspace/NEW_MICCAI_With_YOLOv8/code/../datasets/raw/test/labels/01016SACH_Consensus.nii.gz\n",
      "pathFlair /home/jovyan/workspace/NEW_MICCAI_With_YOLOv8/code/../datasets/raw/test/images/01038PAGU_3DFLAIR.nii.gz\n",
      "path /home/jovyan/workspace/NEW_MICCAI_With_YOLOv8/code/../datasets/raw/test/labels/01038PAGU_Consensus.nii.gz\n",
      "pathFlair /home/jovyan/workspace/NEW_MICCAI_With_YOLOv8/code/../datasets/raw/test/images/01039VITE_3DFLAIR.nii.gz\n",
      "path /home/jovyan/workspace/NEW_MICCAI_With_YOLOv8/code/../datasets/raw/test/labels/01039VITE_Consensus.nii.gz\n",
      "flair: 3\n",
      "seg: 3\n",
      "Folder: val\n",
      "pathFlair /home/jovyan/workspace/NEW_MICCAI_With_YOLOv8/code/../datasets/raw/val/images/08029IVDI_3DFLAIR.nii.gz\n",
      "path /home/jovyan/workspace/NEW_MICCAI_With_YOLOv8/code/../datasets/raw/val/labels/08029IVDI_Consensus.nii.gz\n",
      "pathFlair /home/jovyan/workspace/NEW_MICCAI_With_YOLOv8/code/../datasets/raw/val/images/08031SEVE_3DFLAIR.nii.gz\n",
      "path /home/jovyan/workspace/NEW_MICCAI_With_YOLOv8/code/../datasets/raw/val/labels/08031SEVE_Consensus.nii.gz\n",
      "pathFlair /home/jovyan/workspace/NEW_MICCAI_With_YOLOv8/code/../datasets/raw/val/images/08037ROGU_3DFLAIR.nii.gz\n",
      "path /home/jovyan/workspace/NEW_MICCAI_With_YOLOv8/code/../datasets/raw/val/labels/08037ROGU_Consensus.nii.gz\n",
      "flair: 9\n",
      "seg: 9\n",
      "Folder: train\n",
      "pathFlair /home/jovyan/workspace/NEW_MICCAI_With_YOLOv8/code/../datasets/raw/train/images/01040VANE_3DFLAIR.nii.gz\n",
      "path /home/jovyan/workspace/NEW_MICCAI_With_YOLOv8/code/../datasets/raw/train/labels/01040VANE_Consensus.nii.gz\n",
      "pathFlair /home/jovyan/workspace/NEW_MICCAI_With_YOLOv8/code/../datasets/raw/train/images/01042GULE_3DFLAIR.nii.gz\n",
      "path /home/jovyan/workspace/NEW_MICCAI_With_YOLOv8/code/../datasets/raw/train/labels/01042GULE_Consensus.nii.gz\n",
      "pathFlair /home/jovyan/workspace/NEW_MICCAI_With_YOLOv8/code/../datasets/raw/train/images/07001MOEL_3DFLAIR.nii.gz\n",
      "path /home/jovyan/workspace/NEW_MICCAI_With_YOLOv8/code/../datasets/raw/train/labels/07001MOEL_Consensus.nii.gz\n",
      "pathFlair /home/jovyan/workspace/NEW_MICCAI_With_YOLOv8/code/../datasets/raw/train/images/07003SATH_3DFLAIR.nii.gz\n",
      "path /home/jovyan/workspace/NEW_MICCAI_With_YOLOv8/code/../datasets/raw/train/labels/07003SATH_Consensus.nii.gz\n",
      "pathFlair /home/jovyan/workspace/NEW_MICCAI_With_YOLOv8/code/../datasets/raw/train/images/07010NABO_3DFLAIR.nii.gz\n",
      "path /home/jovyan/workspace/NEW_MICCAI_With_YOLOv8/code/../datasets/raw/train/labels/07010NABO_Consensus.nii.gz\n",
      "pathFlair /home/jovyan/workspace/NEW_MICCAI_With_YOLOv8/code/../datasets/raw/train/images/07040DORE_3DFLAIR.nii.gz\n",
      "path /home/jovyan/workspace/NEW_MICCAI_With_YOLOv8/code/../datasets/raw/train/labels/07040DORE_Consensus.nii.gz\n",
      "pathFlair /home/jovyan/workspace/NEW_MICCAI_With_YOLOv8/code/../datasets/raw/train/images/07043SEME_3DFLAIR.nii.gz\n",
      "path /home/jovyan/workspace/NEW_MICCAI_With_YOLOv8/code/../datasets/raw/train/labels/07043SEME_Consensus.nii.gz\n",
      "pathFlair /home/jovyan/workspace/NEW_MICCAI_With_YOLOv8/code/../datasets/raw/train/images/08002CHJE_3DFLAIR.nii.gz\n",
      "path /home/jovyan/workspace/NEW_MICCAI_With_YOLOv8/code/../datasets/raw/train/labels/08002CHJE_Consensus.nii.gz\n",
      "pathFlair /home/jovyan/workspace/NEW_MICCAI_With_YOLOv8/code/../datasets/raw/train/images/08027SYBR_3DFLAIR.nii.gz\n",
      "path /home/jovyan/workspace/NEW_MICCAI_With_YOLOv8/code/../datasets/raw/train/labels/08027SYBR_Consensus.nii.gz\n",
      "[DONE]\n"
     ]
    }
   ],
   "source": [
    "print('#_____________SELECTION_____________#')\n",
    "slicer_main(path_vers_datasets_raw, seuil, nb_coupe_par_scan,forceAbsPath = f'/home/jovyan/workspace/NEW_MICCAI_With_YOLOv8/code' )"
   ]
  },
  {
   "cell_type": "code",
   "execution_count": null,
   "metadata": {},
   "outputs": [],
   "source": []
  }
 ],
 "metadata": {
  "kernelspec": {
   "display_name": "saturn (Python 3)",
   "language": "python",
   "name": "python3"
  },
  "language_info": {
   "codemirror_mode": {
    "name": "ipython",
    "version": 3
   },
   "file_extension": ".py",
   "mimetype": "text/x-python",
   "name": "python",
   "nbconvert_exporter": "python",
   "pygments_lexer": "ipython3",
   "version": "3.9.13"
  }
 },
 "nbformat": 4,
 "nbformat_minor": 4
}
